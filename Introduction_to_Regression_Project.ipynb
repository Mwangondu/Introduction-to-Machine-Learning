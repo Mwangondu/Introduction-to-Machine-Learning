{
  "nbformat": 4,
  "nbformat_minor": 0,
  "metadata": {
    "colab": {
      "name": "Introduction to Regression Project.ipynb",
      "provenance": [],
      "toc_visible": true
    },
    "kernelspec": {
      "name": "python3",
      "display_name": "Python 3"
    },
    "language_info": {
      "name": "python"
    }
  },
  "cells": [
    {
      "cell_type": "markdown",
      "metadata": {
        "id": "9coSjRvyF5wd"
      },
      "source": [
        "# Introduction to Regression Project-Megaline"
      ]
    },
    {
      "cell_type": "markdown",
      "metadata": {
        "id": "YgzyWzzoGges"
      },
      "source": [
        "# Defining the question"
      ]
    },
    {
      "cell_type": "markdown",
      "metadata": {
        "id": "IyEBXZXYGsac"
      },
      "source": [
        "# a) Specifying the data analysis question\n"
      ]
    },
    {
      "cell_type": "markdown",
      "metadata": {
        "id": "_cloOaOlG7G9"
      },
      "source": [
        "Mobile carrier Megaline would like to develop a model that analyzes subscribers' behavior and recommend\n",
        "one of it's newer plans: Smart or Ultra."
      ]
    },
    {
      "cell_type": "markdown",
      "metadata": {
        "id": "Nlua3V7zHMUU"
      },
      "source": [
        "#b) Defining the Metric for Success"
      ]
    },
    {
      "cell_type": "markdown",
      "metadata": {
        "id": "K8C5Y6FVHQoz"
      },
      "source": [
        "We will have accomplished our objective if we can develop a model that will pick the right plan at the highest possible accuracy"
      ]
    },
    {
      "cell_type": "markdown",
      "metadata": {
        "id": "qGihcQkEHqMK"
      },
      "source": [
        "#c) Understanding the Context"
      ]
    },
    {
      "cell_type": "markdown",
      "metadata": {
        "id": "FMtkeOVCHuaj"
      },
      "source": [
        "Mobile carrier Megaline has found out that many of their subscribers use legacy plans.\n",
        "They want to develop a model that would analyze subscribers' behavior and recommend\n",
        "one of Megaline's newer plans: Smart or Ultra."
      ]
    },
    {
      "cell_type": "markdown",
      "metadata": {
        "id": "4_Y0ShHrISVL"
      },
      "source": [
        "#d)  Recording the Experimental Design"
      ]
    },
    {
      "cell_type": "markdown",
      "metadata": {
        "id": "m-Ep39yOIaCM"
      },
      "source": [
        "1. Importing libraries\n",
        "2. Data Importation\n",
        "3. Data Modeling\n",
        "4. Model Evaluation\n",
        "8. Hyparameter Tuning\n",
        "9. Sanity Check\n",
        "10. Findings and Recommendations\n",
        "\n",
        "\n"
      ]
    },
    {
      "cell_type": "markdown",
      "metadata": {
        "id": "VCTomjMhJOxl"
      },
      "source": [
        "#e) Data Relevance"
      ]
    },
    {
      "cell_type": "markdown",
      "metadata": {
        "id": "m8ip-7G6JTYT"
      },
      "source": [
        "The data was relevant for our analysis"
      ]
    },
    {
      "cell_type": "markdown",
      "metadata": {
        "id": "L_n8FMXiJuMh"
      },
      "source": [
        "# Data importation and modelling"
      ]
    },
    {
      "cell_type": "code",
      "metadata": {
        "id": "CQo9XVAaKH-k"
      },
      "source": [
        "#importing libraries\n",
        "import pandas as pd\n",
        "import numpy as np\n",
        "from sklearn.tree import DecisionTreeClassifier\n",
        "from sklearn.ensemble import RandomForestClassifier\n",
        "from sklearn.linear_model import LogisticRegression\n",
        "from sklearn.metrics import accuracy_score\n",
        "from sklearn.model_selection import train_test_split\n",
        "from sklearn.linear_model import LogisticRegression\n",
        "from sklearn.metrics import precision_score"
      ],
      "execution_count": null,
      "outputs": []
    },
    {
      "cell_type": "code",
      "metadata": {
        "colab": {
          "base_uri": "https://localhost:8080/",
          "height": 206
        },
        "id": "hPYc5N3EKbMD",
        "outputId": "1ff5c4bc-a56f-4a76-a2bd-d4ce4c4dd80b"
      },
      "source": [
        "#importing the data\n",
        "sub_df =pd.read_csv(\"https://bit.ly/UsersBehaviourTelco\")\n",
        "sub_df.head()"
      ],
      "execution_count": null,
      "outputs": [
        {
          "output_type": "execute_result",
          "data": {
            "text/html": [
              "<div>\n",
              "<style scoped>\n",
              "    .dataframe tbody tr th:only-of-type {\n",
              "        vertical-align: middle;\n",
              "    }\n",
              "\n",
              "    .dataframe tbody tr th {\n",
              "        vertical-align: top;\n",
              "    }\n",
              "\n",
              "    .dataframe thead th {\n",
              "        text-align: right;\n",
              "    }\n",
              "</style>\n",
              "<table border=\"1\" class=\"dataframe\">\n",
              "  <thead>\n",
              "    <tr style=\"text-align: right;\">\n",
              "      <th></th>\n",
              "      <th>calls</th>\n",
              "      <th>minutes</th>\n",
              "      <th>messages</th>\n",
              "      <th>mb_used</th>\n",
              "      <th>is_ultra</th>\n",
              "    </tr>\n",
              "  </thead>\n",
              "  <tbody>\n",
              "    <tr>\n",
              "      <th>0</th>\n",
              "      <td>40.0</td>\n",
              "      <td>311.90</td>\n",
              "      <td>83.0</td>\n",
              "      <td>19915.42</td>\n",
              "      <td>0</td>\n",
              "    </tr>\n",
              "    <tr>\n",
              "      <th>1</th>\n",
              "      <td>85.0</td>\n",
              "      <td>516.75</td>\n",
              "      <td>56.0</td>\n",
              "      <td>22696.96</td>\n",
              "      <td>0</td>\n",
              "    </tr>\n",
              "    <tr>\n",
              "      <th>2</th>\n",
              "      <td>77.0</td>\n",
              "      <td>467.66</td>\n",
              "      <td>86.0</td>\n",
              "      <td>21060.45</td>\n",
              "      <td>0</td>\n",
              "    </tr>\n",
              "    <tr>\n",
              "      <th>3</th>\n",
              "      <td>106.0</td>\n",
              "      <td>745.53</td>\n",
              "      <td>81.0</td>\n",
              "      <td>8437.39</td>\n",
              "      <td>1</td>\n",
              "    </tr>\n",
              "    <tr>\n",
              "      <th>4</th>\n",
              "      <td>66.0</td>\n",
              "      <td>418.74</td>\n",
              "      <td>1.0</td>\n",
              "      <td>14502.75</td>\n",
              "      <td>0</td>\n",
              "    </tr>\n",
              "  </tbody>\n",
              "</table>\n",
              "</div>"
            ],
            "text/plain": [
              "   calls  minutes  messages   mb_used  is_ultra\n",
              "0   40.0   311.90      83.0  19915.42         0\n",
              "1   85.0   516.75      56.0  22696.96         0\n",
              "2   77.0   467.66      86.0  21060.45         0\n",
              "3  106.0   745.53      81.0   8437.39         1\n",
              "4   66.0   418.74       1.0  14502.75         0"
            ]
          },
          "metadata": {},
          "execution_count": 98
        }
      ]
    },
    {
      "cell_type": "code",
      "metadata": {
        "colab": {
          "base_uri": "https://localhost:8080/"
        },
        "id": "peuesjEYKz-A",
        "outputId": "8caf27be-46bb-4657-f997-dfe96226c091"
      },
      "source": [
        "sub_df.shape"
      ],
      "execution_count": null,
      "outputs": [
        {
          "output_type": "execute_result",
          "data": {
            "text/plain": [
              "(3214, 5)"
            ]
          },
          "metadata": {},
          "execution_count": 99
        }
      ]
    },
    {
      "cell_type": "code",
      "metadata": {
        "colab": {
          "base_uri": "https://localhost:8080/"
        },
        "id": "6Zdsv8eJK6SY",
        "outputId": "4703cb49-2009-4de4-cb0c-e3686eafd557"
      },
      "source": [
        "sub_df['is_ultra'].value_counts()"
      ],
      "execution_count": null,
      "outputs": [
        {
          "output_type": "execute_result",
          "data": {
            "text/plain": [
              "0    2229\n",
              "1     985\n",
              "Name: is_ultra, dtype: int64"
            ]
          },
          "metadata": {},
          "execution_count": 100
        }
      ]
    },
    {
      "cell_type": "code",
      "metadata": {
        "colab": {
          "base_uri": "https://localhost:8080/"
        },
        "id": "DmzVApXkLH9I",
        "outputId": "ced344a2-c137-4e90-e4bf-ba17101804b2"
      },
      "source": [
        "sub_df.dtypes"
      ],
      "execution_count": null,
      "outputs": [
        {
          "output_type": "execute_result",
          "data": {
            "text/plain": [
              "calls       float64\n",
              "minutes     float64\n",
              "messages    float64\n",
              "mb_used     float64\n",
              "is_ultra      int64\n",
              "dtype: object"
            ]
          },
          "metadata": {},
          "execution_count": 101
        }
      ]
    },
    {
      "cell_type": "code",
      "metadata": {
        "id": "M7xaUi1ADhT6"
      },
      "source": [
        "#converting number of calls and number of messages to integers\n",
        "sub_df['messages'] = sub_df['messages'].astype(int) \n",
        "sub_df['calls'] = sub_df['calls'].astype(int)"
      ],
      "execution_count": null,
      "outputs": []
    },
    {
      "cell_type": "code",
      "metadata": {
        "colab": {
          "base_uri": "https://localhost:8080/"
        },
        "id": "7BZIKyyaDw1h",
        "outputId": "0f9661a4-2d2f-4070-b5f7-100c3e4fe2a0"
      },
      "source": [
        "sub_df.dtypes"
      ],
      "execution_count": null,
      "outputs": [
        {
          "output_type": "execute_result",
          "data": {
            "text/plain": [
              "calls         int64\n",
              "minutes     float64\n",
              "messages      int64\n",
              "mb_used     float64\n",
              "is_ultra      int64\n",
              "dtype: object"
            ]
          },
          "metadata": {},
          "execution_count": 103
        }
      ]
    },
    {
      "cell_type": "code",
      "metadata": {
        "colab": {
          "base_uri": "https://localhost:8080/"
        },
        "id": "2cvMv50ELQOp",
        "outputId": "69fa03ae-8938-4cd9-d470-a7f38c6d74d4"
      },
      "source": [
        "#splitting the data in two sets\n",
        "\n",
        "from sklearn.model_selection import train_test_split\n",
        "\n",
        "features = sub_df.drop(['is_ultra'],axis=1) #X\n",
        "target = sub_df['is_ultra']           #y\n",
        "\n",
        "features_train, features_test,target_train,target_test = train_test_split(features,target, test_size=0.25, random_state=12345)\n",
        "features_train, features_valid, target_train, target_valid = train_test_split(features_train, target_train, test_size=0.2, random_state=12345 )\n",
        "\n",
        "print(features_train.shape)\n",
        "print(features_valid.shape)\n",
        "print(target_train.shape)\n",
        "print(target_valid.shape)\n"
      ],
      "execution_count": null,
      "outputs": [
        {
          "output_type": "stream",
          "name": "stdout",
          "text": [
            "(1928, 4)\n",
            "(482, 4)\n",
            "(1928,)\n",
            "(482,)\n"
          ]
        }
      ]
    },
    {
      "cell_type": "markdown",
      "metadata": {
        "id": "JEVPt6eMcjhe"
      },
      "source": [
        "# 1.Decision Tree Classifier"
      ]
    },
    {
      "cell_type": "code",
      "metadata": {
        "colab": {
          "base_uri": "https://localhost:8080/"
        },
        "id": "OZxCXOekcnKu",
        "outputId": "2c26ecb4-a2e8-42c9-dc1b-a6038ffe7b93"
      },
      "source": [
        "#Training the algorithm\n",
        "model_dtr = DecisionTreeClassifier(random_state=12345)\n",
        "\n",
        "#fitting the model\n",
        "model_dtr.fit(features_train,target_train)\n",
        "\n",
        "#prediction\n",
        "prediction = model_dtr.predict(features_valid)\n",
        "\n",
        "#compare precited values with actual values \n",
        "sub_check = pd.DataFrame({'Actual': target_valid, 'Predicted': prediction})\n",
        "print(sub_check.sample(10))\n",
        "\n",
        "accuracy = accuracy_score(target_valid,prediction)\n",
        "print('accuracy = ',accuracy)\n"
      ],
      "execution_count": null,
      "outputs": [
        {
          "output_type": "stream",
          "name": "stdout",
          "text": [
            "      Actual  Predicted\n",
            "514        0          0\n",
            "1966       0          0\n",
            "1462       0          0\n",
            "912        0          0\n",
            "2506       0          0\n",
            "1384       1          0\n",
            "1549       1          0\n",
            "376        0          0\n",
            "554        0          0\n",
            "1990       0          1\n",
            "accuracy =  0.7468879668049793\n"
          ]
        }
      ]
    },
    {
      "cell_type": "markdown",
      "metadata": {
        "id": "IDJO3lBif_01"
      },
      "source": [
        "The decision tree classifier has an accuracy level of 74.69%"
      ]
    },
    {
      "cell_type": "markdown",
      "metadata": {
        "id": "E679A9p6hcVE"
      },
      "source": [
        "#2.Random Forest Classifier"
      ]
    },
    {
      "cell_type": "code",
      "metadata": {
        "colab": {
          "base_uri": "https://localhost:8080/"
        },
        "id": "TarWPJi9hn_s",
        "outputId": "b3dae2ee-4d9a-4d5e-a945-5b06e98f0931"
      },
      "source": [
        "#Training the algorithm\n",
        "\n",
        "model_rf = RandomForestClassifier(random_state=12345,n_estimators=3)\n",
        "\n",
        "#fitting the model\n",
        "model_rf.fit(features_train,target_train)\n",
        "\n",
        "#prediction\n",
        "prediction_rf = model_rf.predict(features_valid)\n",
        "\n",
        "#compare precited values with actual values \n",
        "subrf_check = pd.DataFrame({'Actual': target_valid, 'Predicted': prediction_rf})\n",
        "print(subrf_check.sample(10))\n",
        "\n",
        "accuracy = accuracy_score(target_valid,prediction_rf)\n",
        "print('accuracy = ',accuracy)\n"
      ],
      "execution_count": null,
      "outputs": [
        {
          "output_type": "stream",
          "name": "stdout",
          "text": [
            "      Actual  Predicted\n",
            "128        0          0\n",
            "627        0          0\n",
            "1459       0          0\n",
            "164        1          1\n",
            "1709       0          0\n",
            "2379       0          0\n",
            "1153       0          0\n",
            "2118       0          0\n",
            "231        0          1\n",
            "1713       1          1\n",
            "accuracy =  0.7759336099585062\n"
          ]
        }
      ]
    },
    {
      "cell_type": "markdown",
      "metadata": {
        "id": "BXCBOQ1lEiPu"
      },
      "source": [
        "Random forest has an accuracy level of 77.59%"
      ]
    },
    {
      "cell_type": "markdown",
      "metadata": {
        "id": "y59lnfbhke-r"
      },
      "source": [
        "#3.Logistic Regression"
      ]
    },
    {
      "cell_type": "code",
      "metadata": {
        "colab": {
          "base_uri": "https://localhost:8080/"
        },
        "id": "htWOYWvQkwv0",
        "outputId": "26fb8e85-05b4-41e3-c069-e4ab85c3a19b"
      },
      "source": [
        "#Training the model\n",
        "model_lr = LogisticRegression(random_state=12345, solver='liblinear')\n",
        "\n",
        "#fitting the model\n",
        "model_lr.fit(features_train,target_train)\n",
        "\n",
        "#prediction\n",
        "prediction_lr = model_lr.predict(features_valid)\n",
        "\n",
        "#compare precited values with actual values \n",
        "sublr_check = pd.DataFrame({'Actual': target_valid, 'Predicted': prediction_lr})\n",
        "print(sublr_check.sample(10))\n",
        "\n",
        "accuracy = accuracy_score(target_valid,prediction_lr)\n",
        "print('accuracy = ',accuracy)\n"
      ],
      "execution_count": null,
      "outputs": [
        {
          "output_type": "stream",
          "name": "stdout",
          "text": [
            "      Actual  Predicted\n",
            "10         1          0\n",
            "2354       0          0\n",
            "912        0          0\n",
            "3114       1          0\n",
            "2765       1          0\n",
            "1582       1          0\n",
            "1696       1          0\n",
            "1089       0          0\n",
            "1717       0          0\n",
            "2643       0          0\n",
            "accuracy =  0.6846473029045643\n"
          ]
        }
      ]
    },
    {
      "cell_type": "markdown",
      "metadata": {
        "id": "p5dHs615EbVe"
      },
      "source": [
        "logistic regression has an accuracy level of 68.46%"
      ]
    },
    {
      "cell_type": "markdown",
      "metadata": {
        "id": "9q_WzMN5l-rq"
      },
      "source": [
        "# Tuning Hyperparameters"
      ]
    },
    {
      "cell_type": "markdown",
      "metadata": {
        "id": "KFJQ8pwzmKu5"
      },
      "source": [
        "#1.Decision Tree Hyperparameter Tuning"
      ]
    },
    {
      "cell_type": "code",
      "metadata": {
        "colab": {
          "base_uri": "https://localhost:8080/"
        },
        "id": "FfCGNsoNmaUl",
        "outputId": "28efa52d-9f32-4e9c-d077-7109f3ca393a"
      },
      "source": [
        "#Tuning max depth\n",
        "for depth in range(1, 15):\n",
        "        model = DecisionTreeClassifier(random_state=12345,max_depth=depth)\n",
        "        \n",
        "        model.fit(features_train, target_train)\n",
        "\n",
        "        prediction = model.predict(features_valid)\n",
        "\n",
        "        accuracy = accuracy_score(target_valid,prediction)\n",
        "\n",
        "        print(\"max_depth =\", depth, \": \", end='')\n",
        "        print(accuracy_score(target_valid,prediction))\n",
        "        "
      ],
      "execution_count": null,
      "outputs": [
        {
          "output_type": "stream",
          "name": "stdout",
          "text": [
            "max_depth = 1 : 0.7489626556016598\n",
            "max_depth = 2 : 0.7759336099585062\n",
            "max_depth = 3 : 0.7946058091286307\n",
            "max_depth = 4 : 0.7759336099585062\n",
            "max_depth = 5 : 0.7904564315352697\n",
            "max_depth = 6 : 0.7987551867219918\n",
            "max_depth = 7 : 0.7883817427385892\n",
            "max_depth = 8 : 0.7904564315352697\n",
            "max_depth = 9 : 0.7883817427385892\n",
            "max_depth = 10 : 0.7925311203319502\n",
            "max_depth = 11 : 0.7925311203319502\n",
            "max_depth = 12 : 0.7655601659751037\n",
            "max_depth = 13 : 0.7655601659751037\n",
            "max_depth = 14 : 0.7531120331950207\n"
          ]
        }
      ]
    },
    {
      "cell_type": "markdown",
      "metadata": {
        "id": "u-tCsyyAnjVI"
      },
      "source": [
        "max_depth 6 has the highest accuracy of 79.88%"
      ]
    },
    {
      "cell_type": "code",
      "metadata": {
        "colab": {
          "base_uri": "https://localhost:8080/"
        },
        "id": "R3Y_e9WEn1DS",
        "outputId": "8d2d1723-25b1-4bfc-9611-86aa80fd4d46"
      },
      "source": [
        "#decision tree regressor with max depth of 6\n",
        "\n",
        "#Training the algorithm\n",
        "model_dtr = DecisionTreeClassifier(random_state=12345,max_depth=6)\n",
        "\n",
        "#fitting the model\n",
        "model_dtr.fit(features_train,target_train)\n",
        "\n",
        "#prediction\n",
        "prediction = model_dtr.predict(features_valid)\n",
        "\n",
        "accuracy = accuracy_score(target_valid,prediction)\n",
        "print('accuracy = ',accuracy)\n",
        "\n",
        "predicted_frequency = pd.Series(prediction).value_counts(normalize=True)\n",
        "print(predicted_frequency)\n",
        "\n",
        "actual_frequency = target_valid.value_counts(normalize=True)\n",
        "print(actual_frequency)"
      ],
      "execution_count": null,
      "outputs": [
        {
          "output_type": "stream",
          "name": "stdout",
          "text": [
            "accuracy =  0.7987551867219918\n",
            "0    0.827801\n",
            "1    0.172199\n",
            "dtype: float64\n",
            "0    0.680498\n",
            "1    0.319502\n",
            "Name: is_ultra, dtype: float64\n"
          ]
        }
      ]
    },
    {
      "cell_type": "markdown",
      "metadata": {
        "id": "iTsCcVS0oq6J"
      },
      "source": [
        "#2.Random Forest Classifier Hyperparameter Tuning"
      ]
    },
    {
      "cell_type": "code",
      "metadata": {
        "colab": {
          "base_uri": "https://localhost:8080/"
        },
        "id": "2FokMj3BI6ox",
        "outputId": "20861fa5-ab4f-481d-d132-40c564b11817"
      },
      "source": [
        "#assuming a max_depth of 6 we tune our random forest\n",
        "\n",
        "for estimator in range(1,15):\n",
        "        model_rf = RandomForestClassifier(random_state=12345, max_depth=6, n_estimators=estimator)\n",
        "        \n",
        "        model_rf.fit(features_train, target_train)\n",
        "\n",
        "        prediction_rf = model_rf.predict(features_valid)\n",
        "        #score(test_features, target)\n",
        "        #predictions = model.predict(test_features)\n",
        "        accuracy_test_rf = accuracy_score(target_valid, prediction_rf)\n",
        "       \n",
        "        print(\"estimator =\", estimator, \": \", end='')\n",
        "        print(accuracy_score(target_valid, prediction_rf))"
      ],
      "execution_count": null,
      "outputs": [
        {
          "output_type": "stream",
          "name": "stdout",
          "text": [
            "estimator = 1 : 0.7904564315352697\n",
            "estimator = 2 : 0.7946058091286307\n",
            "estimator = 3 : 0.8112033195020747\n",
            "estimator = 4 : 0.8112033195020747\n",
            "estimator = 5 : 0.8049792531120332\n",
            "estimator = 6 : 0.8029045643153527\n",
            "estimator = 7 : 0.8091286307053942\n",
            "estimator = 8 : 0.8049792531120332\n",
            "estimator = 9 : 0.8112033195020747\n",
            "estimator = 10 : 0.8049792531120332\n",
            "estimator = 11 : 0.8049792531120332\n",
            "estimator = 12 : 0.8008298755186722\n",
            "estimator = 13 : 0.8029045643153527\n",
            "estimator = 14 : 0.7966804979253111\n"
          ]
        }
      ]
    },
    {
      "cell_type": "markdown",
      "metadata": {
        "id": "a0ZY5HPuJYe6"
      },
      "source": [
        "n_estimator 3 gives us accuracy of 81.12%"
      ]
    },
    {
      "cell_type": "code",
      "metadata": {
        "colab": {
          "base_uri": "https://localhost:8080/"
        },
        "id": "wS5pO2KHue9M",
        "outputId": "4b54623c-cc75-4f5b-e2a8-3545f184a20e"
      },
      "source": [
        "#Training the algorithm with 3 n_estimators and max_depth 7\n",
        "\n",
        "model_rf = RandomForestClassifier(random_state=12345,max_depth=7,n_estimators=3)\n",
        "\n",
        "#fitting the model\n",
        "model_rf.fit(features_train,target_train)\n",
        "\n",
        "#prediction\n",
        "prediction_rf = model_rf.predict(features_valid)\n",
        "\n",
        "#compare precited values with actual values \n",
        "subrf_check = pd.DataFrame({'Actual': target_valid, 'Predicted': prediction_rf})\n",
        "print(subrf_check.sample(10))\n",
        "\n",
        "accuracy = accuracy_score(target_valid,prediction_rf)\n",
        "print('accuracy = ',accuracy)\n",
        "\n",
        "predicted_frequency = pd.Series(prediction_rf).value_counts(normalize=True)\n",
        "print(predicted_frequency)\n",
        "\n",
        "actual_frequency = target_valid.value_counts(normalize=True)\n",
        "print(actual_frequency)"
      ],
      "execution_count": null,
      "outputs": [
        {
          "output_type": "stream",
          "name": "stdout",
          "text": [
            "      Actual  Predicted\n",
            "1646       1          1\n",
            "1072       0          0\n",
            "290        1          0\n",
            "1775       1          0\n",
            "3058       0          0\n",
            "2685       1          0\n",
            "1229       1          0\n",
            "2898       0          0\n",
            "1169       0          0\n",
            "1061       0          0\n",
            "accuracy =  0.7925311203319502\n",
            "0    0.813278\n",
            "1    0.186722\n",
            "dtype: float64\n",
            "0    0.680498\n",
            "1    0.319502\n",
            "Name: is_ultra, dtype: float64\n"
          ]
        }
      ]
    },
    {
      "cell_type": "markdown",
      "metadata": {
        "id": "cHcz2Z8HJ88O"
      },
      "source": [
        "#3 Logistic Regression hyperparameter tuning"
      ]
    },
    {
      "cell_type": "code",
      "metadata": {
        "colab": {
          "base_uri": "https://localhost:8080/"
        },
        "id": "0a6-WaTitYGG",
        "outputId": "8ff7ed2d-78cf-4c7e-b3ce-528679cc74d3"
      },
      "source": [
        "C_parameter_range = [0.001,0.01,0.1,1,10,100]\n",
        "\n",
        "for i in C_parameter_range:\n",
        "    \n",
        "    # Apply logistic regression model to training data\n",
        "    \n",
        "    model_lr = LogisticRegression(random_state=12345, solver='liblinear',C=i) \n",
        "\n",
        "    \n",
        "    model_lr.fit(features_train, target_train)\n",
        "\n",
        "    # Predict using model\n",
        "    prediction_lr = model_lr.predict(features_valid)\n",
        "\n",
        "    accuracy_lr= accuracy_score(target_valid,prediction_lr )\n",
        "\n",
        "    print(\"C =\",i,\": \", end='')\n",
        "    print(accuracy_score(target_valid,prediction_lr))"
      ],
      "execution_count": null,
      "outputs": [
        {
          "output_type": "stream",
          "name": "stdout",
          "text": [
            "C = 0.001 : 0.6784232365145229\n",
            "C = 0.01 : 0.6846473029045643\n",
            "C = 0.1 : 0.6846473029045643\n",
            "C = 1 : 0.6846473029045643\n",
            "C = 10 : 0.6846473029045643\n",
            "C = 100 : 0.7178423236514523\n"
          ]
        }
      ]
    },
    {
      "cell_type": "markdown",
      "metadata": {
        "id": "Q2v_AcsOuGM_"
      },
      "source": [
        "the least C with highest accuracy is c=0.01 with 68.46%"
      ]
    },
    {
      "cell_type": "code",
      "metadata": {
        "colab": {
          "base_uri": "https://localhost:8080/"
        },
        "id": "AtpdHxgdvCf-",
        "outputId": "3f9fdc51-ffcc-4dd3-ad33-0a524f79fce0"
      },
      "source": [
        "#Training the model with c=0.01\n",
        "model_lr = LogisticRegression(random_state=12345, solver='liblinear',C=0.01)\n",
        "\n",
        "#fitting the model\n",
        "model_lr.fit(features_train,target_train)\n",
        "\n",
        "#prediction\n",
        "prediction_lr = model_lr.predict(features_valid)\n",
        "\n",
        "#compare precited values with actual values \n",
        "sublr_check = pd.DataFrame({'Actual': target_valid, 'Predicted': prediction_lr})\n",
        "print(sublr_check.sample(10))\n",
        "\n",
        "accuracy = accuracy_score(target_valid,prediction_lr)\n",
        "print('accuracy = ',accuracy)\n",
        "\n",
        "predicted_frequency = pd.Series(prediction_lr).value_counts(normalize=True)\n",
        "print(predicted_frequency)\n",
        "\n",
        "actual_frequency = target_valid.value_counts(normalize=True)\n",
        "print(actual_frequency)"
      ],
      "execution_count": null,
      "outputs": [
        {
          "output_type": "stream",
          "name": "stdout",
          "text": [
            "      Actual  Predicted\n",
            "2025       0          0\n",
            "706        0          0\n",
            "1845       1          0\n",
            "3114       1          0\n",
            "695        0          0\n",
            "2747       0          0\n",
            "1536       0          0\n",
            "2797       0          0\n",
            "1344       0          0\n",
            "760        1          0\n",
            "accuracy =  0.6846473029045643\n",
            "0    0.991701\n",
            "1    0.008299\n",
            "dtype: float64\n",
            "0    0.680498\n",
            "1    0.319502\n",
            "Name: is_ultra, dtype: float64\n"
          ]
        }
      ]
    },
    {
      "cell_type": "markdown",
      "metadata": {
        "id": "IxMKdjBF7ekI"
      },
      "source": [
        "#Model Evaluation"
      ]
    },
    {
      "cell_type": "code",
      "metadata": {
        "colab": {
          "base_uri": "https://localhost:8080/"
        },
        "id": "uuKUCYT-3ojJ",
        "outputId": "42d6847c-39a2-4d0c-cdb9-83d78a47ad5d"
      },
      "source": [
        "#model evaluation using test data\n",
        "test_predictdtr = model_dtr.predict(features_test)\n",
        "dtr_accuracy = accuracy_score(target_test, test_predictdtr)\n",
        "print('dtr_accuracy:',dtr_accuracy)\n",
        "\n",
        "test_predictrfc = model_rf.predict(features_test)\n",
        "rfc_accuracy = accuracy_score(target_test, test_predictrfc)\n",
        "print('rfc_accuracy:', rfc_accuracy)\n",
        "\n",
        "test_predictlr = model_lr.predict(features_test)\n",
        "lr_accuracy = accuracy_score(target_test, test_predictlr)\n",
        "print('test_predictlr:', lr_accuracy)\n",
        "\n"
      ],
      "execution_count": null,
      "outputs": [
        {
          "output_type": "stream",
          "name": "stdout",
          "text": [
            "dtr_accuracy: 0.7860696517412935\n",
            "rfc_accuracy: 0.7873134328358209\n",
            "test_predictlr: 0.7027363184079602\n"
          ]
        }
      ]
    },
    {
      "cell_type": "code",
      "metadata": {
        "colab": {
          "base_uri": "https://localhost:8080/"
        },
        "id": "0EWJceDqxEp-",
        "outputId": "d18effd3-0aa0-4ffa-a8c7-6c8a27fee193"
      },
      "source": [
        "#precision\n",
        "precision_decision_tree = precision_score(model_dtr.predict(features_test), target_test)\n",
        "print('precision_decision_tree=',precision_decision_tree)\n",
        "\n",
        "precision_random_forest = precision_score(model_rf.predict(features_test), target_test)\n",
        "print('precision_random_forest=',precision_random_forest)\n",
        "\n",
        "precision_logistic_regression = precision_score(model_lr.predict(features_test), target_test)\n",
        "print('precision_logistic_regression=',precision_logistic_regression)"
      ],
      "execution_count": null,
      "outputs": [
        {
          "output_type": "stream",
          "name": "stdout",
          "text": [
            "precision_decision_tree= 0.3817427385892116\n",
            "precision_random_forest= 0.4190871369294606\n",
            "precision_logistic_regression= 0.029045643153526972\n"
          ]
        }
      ]
    },
    {
      "cell_type": "markdown",
      "metadata": {
        "id": "6mVxpuBC6Ejc"
      },
      "source": [
        "The random forest classifier and decision tree classifier surpass the required accuracy of 75% with accuracy score of 78.7 and 78.6. The random forest seems the superior model as it has a precision of 0.41 which though low is higher than the other models. \n"
      ]
    }
  ]
}