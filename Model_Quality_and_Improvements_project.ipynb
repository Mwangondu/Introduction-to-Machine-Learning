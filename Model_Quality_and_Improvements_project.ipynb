{
  "nbformat": 4,
  "nbformat_minor": 0,
  "metadata": {
    "colab": {
      "name": " Model Quality and Improvements project.ipynb",
      "provenance": [],
      "collapsed_sections": [
        "c06fk_nJ9g8c",
        "CIdEvTv1eJ3x"
      ],
      "toc_visible": true
    },
    "kernelspec": {
      "name": "python3",
      "display_name": "Python 3"
    },
    "language_info": {
      "name": "python"
    }
  },
  "cells": [
    {
      "cell_type": "markdown",
      "metadata": {
        "id": "VUGKPACB-4Sk"
      },
      "source": [
        "#Defining the question"
      ]
    },
    {
      "cell_type": "markdown",
      "metadata": {
        "id": "TMoQXfQn-_vs"
      },
      "source": [
        "a) Specifying the Data Analysis Question"
      ]
    },
    {
      "cell_type": "markdown",
      "metadata": {
        "id": "iRxaJDi__TFv"
      },
      "source": [
        "Develop a model that predicts whether a patient will be diagnosed with diabetes"
      ]
    },
    {
      "cell_type": "markdown",
      "metadata": {
        "id": "axsj_9Ot_U8e"
      },
      "source": [
        "b) Defining the Metric for Success"
      ]
    },
    {
      "cell_type": "markdown",
      "metadata": {
        "id": "oATsSykv_bFv"
      },
      "source": [
        "We will have met the requirement if we can develop a model that predicts whether a person will be diagnosed with diabetes with an accuracy score greater than 85%"
      ]
    },
    {
      "cell_type": "markdown",
      "metadata": {
        "id": "bSxz3J3y_zGG"
      },
      "source": [
        "c) Understanding the context"
      ]
    },
    {
      "cell_type": "markdown",
      "metadata": {
        "id": "FX2L0SNa_0Gv"
      },
      "source": [
        "As a data professional working for a pharmaceutical company, you need to develop a\n",
        "model that predicts whether a patient will be diagnosed with diabetes. The model needs\n",
        "to have an accuracy score greater than 0.85."
      ]
    },
    {
      "cell_type": "markdown",
      "metadata": {
        "id": "qZ2cMmI2__m2"
      },
      "source": [
        "d) Recording the Experimental Design"
      ]
    },
    {
      "cell_type": "markdown",
      "metadata": {
        "id": "ZjACiPRKAA7g"
      },
      "source": [
        "\n",
        "1.   Data Importation\n",
        "2.   Data Exploration\n",
        "3.   Data Cleaning\n",
        "4.   Data Preparation\n",
        "5.   Data Modeling (Using Decision Trees, Random Forest and Logistic Regression)\n",
        "6.   Model Evaluation\n",
        "7.   Hyparameter Tuning\n",
        "8.   Findings and Recommendations\n",
        "\n"
      ]
    },
    {
      "cell_type": "markdown",
      "metadata": {
        "id": "KFmYYKFyAfsH"
      },
      "source": [
        "e) Data Relevance"
      ]
    },
    {
      "cell_type": "markdown",
      "metadata": {
        "id": "1UTcxw3o_2XE"
      },
      "source": [
        "The data was relevant to our analysis"
      ]
    },
    {
      "cell_type": "code",
      "metadata": {
        "id": "Kw1sC72GAk8i"
      },
      "source": [
        "#importing the libraries\n",
        "import pandas as pd\n",
        "import numpy as np\n",
        "import warnings\n",
        "warnings.filterwarnings('ignore')\n",
        "import matplotlib.pyplot as plt\n",
        "\n",
        "\n"
      ],
      "execution_count": 1,
      "outputs": []
    },
    {
      "cell_type": "markdown",
      "metadata": {
        "id": "oQqfYW3ad4DC"
      },
      "source": [
        "# Data Importation"
      ]
    },
    {
      "cell_type": "code",
      "metadata": {
        "colab": {
          "base_uri": "https://localhost:8080/",
          "height": 206
        },
        "id": "6pRO4lY6ClHK",
        "outputId": "7dc2cdb4-b50d-4c9e-c97e-0bb302e592ef"
      },
      "source": [
        "# Load and preview dataset\n",
        "diabetes_df = pd.read_csv(\"https://bit.ly/DiabetesDS\")\n",
        "diabetes_df.head()"
      ],
      "execution_count": 2,
      "outputs": [
        {
          "output_type": "execute_result",
          "data": {
            "text/html": [
              "<div>\n",
              "<style scoped>\n",
              "    .dataframe tbody tr th:only-of-type {\n",
              "        vertical-align: middle;\n",
              "    }\n",
              "\n",
              "    .dataframe tbody tr th {\n",
              "        vertical-align: top;\n",
              "    }\n",
              "\n",
              "    .dataframe thead th {\n",
              "        text-align: right;\n",
              "    }\n",
              "</style>\n",
              "<table border=\"1\" class=\"dataframe\">\n",
              "  <thead>\n",
              "    <tr style=\"text-align: right;\">\n",
              "      <th></th>\n",
              "      <th>Pregnancies</th>\n",
              "      <th>Glucose</th>\n",
              "      <th>BloodPressure</th>\n",
              "      <th>SkinThickness</th>\n",
              "      <th>Insulin</th>\n",
              "      <th>BMI</th>\n",
              "      <th>DiabetesPedigreeFunction</th>\n",
              "      <th>Age</th>\n",
              "      <th>Outcome</th>\n",
              "    </tr>\n",
              "  </thead>\n",
              "  <tbody>\n",
              "    <tr>\n",
              "      <th>0</th>\n",
              "      <td>6</td>\n",
              "      <td>148</td>\n",
              "      <td>72</td>\n",
              "      <td>35</td>\n",
              "      <td>0</td>\n",
              "      <td>33.6</td>\n",
              "      <td>0.627</td>\n",
              "      <td>50</td>\n",
              "      <td>1</td>\n",
              "    </tr>\n",
              "    <tr>\n",
              "      <th>1</th>\n",
              "      <td>1</td>\n",
              "      <td>85</td>\n",
              "      <td>66</td>\n",
              "      <td>29</td>\n",
              "      <td>0</td>\n",
              "      <td>26.6</td>\n",
              "      <td>0.351</td>\n",
              "      <td>31</td>\n",
              "      <td>0</td>\n",
              "    </tr>\n",
              "    <tr>\n",
              "      <th>2</th>\n",
              "      <td>8</td>\n",
              "      <td>183</td>\n",
              "      <td>64</td>\n",
              "      <td>0</td>\n",
              "      <td>0</td>\n",
              "      <td>23.3</td>\n",
              "      <td>0.672</td>\n",
              "      <td>32</td>\n",
              "      <td>1</td>\n",
              "    </tr>\n",
              "    <tr>\n",
              "      <th>3</th>\n",
              "      <td>1</td>\n",
              "      <td>89</td>\n",
              "      <td>66</td>\n",
              "      <td>23</td>\n",
              "      <td>94</td>\n",
              "      <td>28.1</td>\n",
              "      <td>0.167</td>\n",
              "      <td>21</td>\n",
              "      <td>0</td>\n",
              "    </tr>\n",
              "    <tr>\n",
              "      <th>4</th>\n",
              "      <td>0</td>\n",
              "      <td>137</td>\n",
              "      <td>40</td>\n",
              "      <td>35</td>\n",
              "      <td>168</td>\n",
              "      <td>43.1</td>\n",
              "      <td>2.288</td>\n",
              "      <td>33</td>\n",
              "      <td>1</td>\n",
              "    </tr>\n",
              "  </tbody>\n",
              "</table>\n",
              "</div>"
            ],
            "text/plain": [
              "   Pregnancies  Glucose  BloodPressure  ...  DiabetesPedigreeFunction  Age  Outcome\n",
              "0            6      148             72  ...                     0.627   50        1\n",
              "1            1       85             66  ...                     0.351   31        0\n",
              "2            8      183             64  ...                     0.672   32        1\n",
              "3            1       89             66  ...                     0.167   21        0\n",
              "4            0      137             40  ...                     2.288   33        1\n",
              "\n",
              "[5 rows x 9 columns]"
            ]
          },
          "metadata": {},
          "execution_count": 2
        }
      ]
    },
    {
      "cell_type": "markdown",
      "metadata": {
        "id": "8kni-y2CEibH"
      },
      "source": [
        "# Data Exploration"
      ]
    },
    {
      "cell_type": "code",
      "metadata": {
        "colab": {
          "base_uri": "https://localhost:8080/"
        },
        "id": "ulHe1hW0C3GB",
        "outputId": "08dfba06-ce49-46a2-a995-1f646cd1ebee"
      },
      "source": [
        "#checking the data size\n",
        "diabetes_df.shape"
      ],
      "execution_count": 3,
      "outputs": [
        {
          "output_type": "execute_result",
          "data": {
            "text/plain": [
              "(768, 9)"
            ]
          },
          "metadata": {},
          "execution_count": 3
        }
      ]
    },
    {
      "cell_type": "markdown",
      "metadata": {
        "id": "5g3eyiO9DAB3"
      },
      "source": [
        "The data has 768 rows and 9 columns"
      ]
    },
    {
      "cell_type": "code",
      "metadata": {
        "colab": {
          "base_uri": "https://localhost:8080/",
          "height": 206
        },
        "id": "iIlq5eM3E9mg",
        "outputId": "a8cb5b9e-8538-4f17-c2a4-6104cde91cf5"
      },
      "source": [
        "#cheking the first 5 records\n",
        "diabetes_df.head()"
      ],
      "execution_count": 4,
      "outputs": [
        {
          "output_type": "execute_result",
          "data": {
            "text/html": [
              "<div>\n",
              "<style scoped>\n",
              "    .dataframe tbody tr th:only-of-type {\n",
              "        vertical-align: middle;\n",
              "    }\n",
              "\n",
              "    .dataframe tbody tr th {\n",
              "        vertical-align: top;\n",
              "    }\n",
              "\n",
              "    .dataframe thead th {\n",
              "        text-align: right;\n",
              "    }\n",
              "</style>\n",
              "<table border=\"1\" class=\"dataframe\">\n",
              "  <thead>\n",
              "    <tr style=\"text-align: right;\">\n",
              "      <th></th>\n",
              "      <th>Pregnancies</th>\n",
              "      <th>Glucose</th>\n",
              "      <th>BloodPressure</th>\n",
              "      <th>SkinThickness</th>\n",
              "      <th>Insulin</th>\n",
              "      <th>BMI</th>\n",
              "      <th>DiabetesPedigreeFunction</th>\n",
              "      <th>Age</th>\n",
              "      <th>Outcome</th>\n",
              "    </tr>\n",
              "  </thead>\n",
              "  <tbody>\n",
              "    <tr>\n",
              "      <th>0</th>\n",
              "      <td>6</td>\n",
              "      <td>148</td>\n",
              "      <td>72</td>\n",
              "      <td>35</td>\n",
              "      <td>0</td>\n",
              "      <td>33.6</td>\n",
              "      <td>0.627</td>\n",
              "      <td>50</td>\n",
              "      <td>1</td>\n",
              "    </tr>\n",
              "    <tr>\n",
              "      <th>1</th>\n",
              "      <td>1</td>\n",
              "      <td>85</td>\n",
              "      <td>66</td>\n",
              "      <td>29</td>\n",
              "      <td>0</td>\n",
              "      <td>26.6</td>\n",
              "      <td>0.351</td>\n",
              "      <td>31</td>\n",
              "      <td>0</td>\n",
              "    </tr>\n",
              "    <tr>\n",
              "      <th>2</th>\n",
              "      <td>8</td>\n",
              "      <td>183</td>\n",
              "      <td>64</td>\n",
              "      <td>0</td>\n",
              "      <td>0</td>\n",
              "      <td>23.3</td>\n",
              "      <td>0.672</td>\n",
              "      <td>32</td>\n",
              "      <td>1</td>\n",
              "    </tr>\n",
              "    <tr>\n",
              "      <th>3</th>\n",
              "      <td>1</td>\n",
              "      <td>89</td>\n",
              "      <td>66</td>\n",
              "      <td>23</td>\n",
              "      <td>94</td>\n",
              "      <td>28.1</td>\n",
              "      <td>0.167</td>\n",
              "      <td>21</td>\n",
              "      <td>0</td>\n",
              "    </tr>\n",
              "    <tr>\n",
              "      <th>4</th>\n",
              "      <td>0</td>\n",
              "      <td>137</td>\n",
              "      <td>40</td>\n",
              "      <td>35</td>\n",
              "      <td>168</td>\n",
              "      <td>43.1</td>\n",
              "      <td>2.288</td>\n",
              "      <td>33</td>\n",
              "      <td>1</td>\n",
              "    </tr>\n",
              "  </tbody>\n",
              "</table>\n",
              "</div>"
            ],
            "text/plain": [
              "   Pregnancies  Glucose  BloodPressure  ...  DiabetesPedigreeFunction  Age  Outcome\n",
              "0            6      148             72  ...                     0.627   50        1\n",
              "1            1       85             66  ...                     0.351   31        0\n",
              "2            8      183             64  ...                     0.672   32        1\n",
              "3            1       89             66  ...                     0.167   21        0\n",
              "4            0      137             40  ...                     2.288   33        1\n",
              "\n",
              "[5 rows x 9 columns]"
            ]
          },
          "metadata": {},
          "execution_count": 4
        }
      ]
    },
    {
      "cell_type": "code",
      "metadata": {
        "colab": {
          "base_uri": "https://localhost:8080/",
          "height": 206
        },
        "id": "S9RaGznXFHap",
        "outputId": "013abb5d-8d7e-41d8-8b40-dde7ab4bbf4f"
      },
      "source": [
        "#checking the last 5 records\n",
        "diabetes_df.tail()"
      ],
      "execution_count": 5,
      "outputs": [
        {
          "output_type": "execute_result",
          "data": {
            "text/html": [
              "<div>\n",
              "<style scoped>\n",
              "    .dataframe tbody tr th:only-of-type {\n",
              "        vertical-align: middle;\n",
              "    }\n",
              "\n",
              "    .dataframe tbody tr th {\n",
              "        vertical-align: top;\n",
              "    }\n",
              "\n",
              "    .dataframe thead th {\n",
              "        text-align: right;\n",
              "    }\n",
              "</style>\n",
              "<table border=\"1\" class=\"dataframe\">\n",
              "  <thead>\n",
              "    <tr style=\"text-align: right;\">\n",
              "      <th></th>\n",
              "      <th>Pregnancies</th>\n",
              "      <th>Glucose</th>\n",
              "      <th>BloodPressure</th>\n",
              "      <th>SkinThickness</th>\n",
              "      <th>Insulin</th>\n",
              "      <th>BMI</th>\n",
              "      <th>DiabetesPedigreeFunction</th>\n",
              "      <th>Age</th>\n",
              "      <th>Outcome</th>\n",
              "    </tr>\n",
              "  </thead>\n",
              "  <tbody>\n",
              "    <tr>\n",
              "      <th>763</th>\n",
              "      <td>10</td>\n",
              "      <td>101</td>\n",
              "      <td>76</td>\n",
              "      <td>48</td>\n",
              "      <td>180</td>\n",
              "      <td>32.9</td>\n",
              "      <td>0.171</td>\n",
              "      <td>63</td>\n",
              "      <td>0</td>\n",
              "    </tr>\n",
              "    <tr>\n",
              "      <th>764</th>\n",
              "      <td>2</td>\n",
              "      <td>122</td>\n",
              "      <td>70</td>\n",
              "      <td>27</td>\n",
              "      <td>0</td>\n",
              "      <td>36.8</td>\n",
              "      <td>0.340</td>\n",
              "      <td>27</td>\n",
              "      <td>0</td>\n",
              "    </tr>\n",
              "    <tr>\n",
              "      <th>765</th>\n",
              "      <td>5</td>\n",
              "      <td>121</td>\n",
              "      <td>72</td>\n",
              "      <td>23</td>\n",
              "      <td>112</td>\n",
              "      <td>26.2</td>\n",
              "      <td>0.245</td>\n",
              "      <td>30</td>\n",
              "      <td>0</td>\n",
              "    </tr>\n",
              "    <tr>\n",
              "      <th>766</th>\n",
              "      <td>1</td>\n",
              "      <td>126</td>\n",
              "      <td>60</td>\n",
              "      <td>0</td>\n",
              "      <td>0</td>\n",
              "      <td>30.1</td>\n",
              "      <td>0.349</td>\n",
              "      <td>47</td>\n",
              "      <td>1</td>\n",
              "    </tr>\n",
              "    <tr>\n",
              "      <th>767</th>\n",
              "      <td>1</td>\n",
              "      <td>93</td>\n",
              "      <td>70</td>\n",
              "      <td>31</td>\n",
              "      <td>0</td>\n",
              "      <td>30.4</td>\n",
              "      <td>0.315</td>\n",
              "      <td>23</td>\n",
              "      <td>0</td>\n",
              "    </tr>\n",
              "  </tbody>\n",
              "</table>\n",
              "</div>"
            ],
            "text/plain": [
              "     Pregnancies  Glucose  ...  Age  Outcome\n",
              "763           10      101  ...   63        0\n",
              "764            2      122  ...   27        0\n",
              "765            5      121  ...   30        0\n",
              "766            1      126  ...   47        1\n",
              "767            1       93  ...   23        0\n",
              "\n",
              "[5 rows x 9 columns]"
            ]
          },
          "metadata": {},
          "execution_count": 5
        }
      ]
    },
    {
      "cell_type": "code",
      "metadata": {
        "colab": {
          "base_uri": "https://localhost:8080/"
        },
        "id": "6eK9-s_FDFeX",
        "outputId": "8dab277b-3ae2-4419-e915-5860a04efc69"
      },
      "source": [
        "#checking for duplicated values\n",
        "diabetes_df.duplicated().sum()"
      ],
      "execution_count": 6,
      "outputs": [
        {
          "output_type": "execute_result",
          "data": {
            "text/plain": [
              "0"
            ]
          },
          "metadata": {},
          "execution_count": 6
        }
      ]
    },
    {
      "cell_type": "markdown",
      "metadata": {
        "id": "s7-ICwqdDUZF"
      },
      "source": [
        "There are no duplicates in the dataset"
      ]
    },
    {
      "cell_type": "code",
      "metadata": {
        "colab": {
          "base_uri": "https://localhost:8080/"
        },
        "id": "ZHEyefifDXzX",
        "outputId": "b367c83a-0958-418c-c4e9-245c64f64f63"
      },
      "source": [
        "# Checking for missing values\n",
        "diabetes_df.isna().sum()"
      ],
      "execution_count": 7,
      "outputs": [
        {
          "output_type": "execute_result",
          "data": {
            "text/plain": [
              "Pregnancies                 0\n",
              "Glucose                     0\n",
              "BloodPressure               0\n",
              "SkinThickness               0\n",
              "Insulin                     0\n",
              "BMI                         0\n",
              "DiabetesPedigreeFunction    0\n",
              "Age                         0\n",
              "Outcome                     0\n",
              "dtype: int64"
            ]
          },
          "metadata": {},
          "execution_count": 7
        }
      ]
    },
    {
      "cell_type": "markdown",
      "metadata": {
        "id": "DRLbEPUhDs2O"
      },
      "source": [
        "There are no null values in the dataset"
      ]
    },
    {
      "cell_type": "code",
      "metadata": {
        "colab": {
          "base_uri": "https://localhost:8080/"
        },
        "id": "ZcnErfmHDxTO",
        "outputId": "110191e5-1239-4d02-e363-f3e1f0cca893"
      },
      "source": [
        "#checking the data types\n",
        "#diabetes_df.head()\n",
        "diabetes_df.dtypes"
      ],
      "execution_count": 8,
      "outputs": [
        {
          "output_type": "execute_result",
          "data": {
            "text/plain": [
              "Pregnancies                   int64\n",
              "Glucose                       int64\n",
              "BloodPressure                 int64\n",
              "SkinThickness                 int64\n",
              "Insulin                       int64\n",
              "BMI                         float64\n",
              "DiabetesPedigreeFunction    float64\n",
              "Age                           int64\n",
              "Outcome                       int64\n",
              "dtype: object"
            ]
          },
          "metadata": {},
          "execution_count": 8
        }
      ]
    },
    {
      "cell_type": "markdown",
      "metadata": {
        "id": "rN-uMeC1ENDP"
      },
      "source": [
        "From the preview of the data,the data types are okay "
      ]
    },
    {
      "cell_type": "code",
      "metadata": {
        "colab": {
          "base_uri": "https://localhost:8080/",
          "height": 320
        },
        "id": "daa4lctvEYi3",
        "outputId": "675b4dc2-a1bb-4f18-fd2e-a76d7d962386"
      },
      "source": [
        "#checking the statistical measures of the data\n",
        "diabetes_df.describe()"
      ],
      "execution_count": 9,
      "outputs": [
        {
          "output_type": "execute_result",
          "data": {
            "text/html": [
              "<div>\n",
              "<style scoped>\n",
              "    .dataframe tbody tr th:only-of-type {\n",
              "        vertical-align: middle;\n",
              "    }\n",
              "\n",
              "    .dataframe tbody tr th {\n",
              "        vertical-align: top;\n",
              "    }\n",
              "\n",
              "    .dataframe thead th {\n",
              "        text-align: right;\n",
              "    }\n",
              "</style>\n",
              "<table border=\"1\" class=\"dataframe\">\n",
              "  <thead>\n",
              "    <tr style=\"text-align: right;\">\n",
              "      <th></th>\n",
              "      <th>Pregnancies</th>\n",
              "      <th>Glucose</th>\n",
              "      <th>BloodPressure</th>\n",
              "      <th>SkinThickness</th>\n",
              "      <th>Insulin</th>\n",
              "      <th>BMI</th>\n",
              "      <th>DiabetesPedigreeFunction</th>\n",
              "      <th>Age</th>\n",
              "      <th>Outcome</th>\n",
              "    </tr>\n",
              "  </thead>\n",
              "  <tbody>\n",
              "    <tr>\n",
              "      <th>count</th>\n",
              "      <td>768.000000</td>\n",
              "      <td>768.000000</td>\n",
              "      <td>768.000000</td>\n",
              "      <td>768.000000</td>\n",
              "      <td>768.000000</td>\n",
              "      <td>768.000000</td>\n",
              "      <td>768.000000</td>\n",
              "      <td>768.000000</td>\n",
              "      <td>768.000000</td>\n",
              "    </tr>\n",
              "    <tr>\n",
              "      <th>mean</th>\n",
              "      <td>3.845052</td>\n",
              "      <td>120.894531</td>\n",
              "      <td>69.105469</td>\n",
              "      <td>20.536458</td>\n",
              "      <td>79.799479</td>\n",
              "      <td>31.992578</td>\n",
              "      <td>0.471876</td>\n",
              "      <td>33.240885</td>\n",
              "      <td>0.348958</td>\n",
              "    </tr>\n",
              "    <tr>\n",
              "      <th>std</th>\n",
              "      <td>3.369578</td>\n",
              "      <td>31.972618</td>\n",
              "      <td>19.355807</td>\n",
              "      <td>15.952218</td>\n",
              "      <td>115.244002</td>\n",
              "      <td>7.884160</td>\n",
              "      <td>0.331329</td>\n",
              "      <td>11.760232</td>\n",
              "      <td>0.476951</td>\n",
              "    </tr>\n",
              "    <tr>\n",
              "      <th>min</th>\n",
              "      <td>0.000000</td>\n",
              "      <td>0.000000</td>\n",
              "      <td>0.000000</td>\n",
              "      <td>0.000000</td>\n",
              "      <td>0.000000</td>\n",
              "      <td>0.000000</td>\n",
              "      <td>0.078000</td>\n",
              "      <td>21.000000</td>\n",
              "      <td>0.000000</td>\n",
              "    </tr>\n",
              "    <tr>\n",
              "      <th>25%</th>\n",
              "      <td>1.000000</td>\n",
              "      <td>99.000000</td>\n",
              "      <td>62.000000</td>\n",
              "      <td>0.000000</td>\n",
              "      <td>0.000000</td>\n",
              "      <td>27.300000</td>\n",
              "      <td>0.243750</td>\n",
              "      <td>24.000000</td>\n",
              "      <td>0.000000</td>\n",
              "    </tr>\n",
              "    <tr>\n",
              "      <th>50%</th>\n",
              "      <td>3.000000</td>\n",
              "      <td>117.000000</td>\n",
              "      <td>72.000000</td>\n",
              "      <td>23.000000</td>\n",
              "      <td>30.500000</td>\n",
              "      <td>32.000000</td>\n",
              "      <td>0.372500</td>\n",
              "      <td>29.000000</td>\n",
              "      <td>0.000000</td>\n",
              "    </tr>\n",
              "    <tr>\n",
              "      <th>75%</th>\n",
              "      <td>6.000000</td>\n",
              "      <td>140.250000</td>\n",
              "      <td>80.000000</td>\n",
              "      <td>32.000000</td>\n",
              "      <td>127.250000</td>\n",
              "      <td>36.600000</td>\n",
              "      <td>0.626250</td>\n",
              "      <td>41.000000</td>\n",
              "      <td>1.000000</td>\n",
              "    </tr>\n",
              "    <tr>\n",
              "      <th>max</th>\n",
              "      <td>17.000000</td>\n",
              "      <td>199.000000</td>\n",
              "      <td>122.000000</td>\n",
              "      <td>99.000000</td>\n",
              "      <td>846.000000</td>\n",
              "      <td>67.100000</td>\n",
              "      <td>2.420000</td>\n",
              "      <td>81.000000</td>\n",
              "      <td>1.000000</td>\n",
              "    </tr>\n",
              "  </tbody>\n",
              "</table>\n",
              "</div>"
            ],
            "text/plain": [
              "       Pregnancies     Glucose  ...         Age     Outcome\n",
              "count   768.000000  768.000000  ...  768.000000  768.000000\n",
              "mean      3.845052  120.894531  ...   33.240885    0.348958\n",
              "std       3.369578   31.972618  ...   11.760232    0.476951\n",
              "min       0.000000    0.000000  ...   21.000000    0.000000\n",
              "25%       1.000000   99.000000  ...   24.000000    0.000000\n",
              "50%       3.000000  117.000000  ...   29.000000    0.000000\n",
              "75%       6.000000  140.250000  ...   41.000000    1.000000\n",
              "max      17.000000  199.000000  ...   81.000000    1.000000\n",
              "\n",
              "[8 rows x 9 columns]"
            ]
          },
          "metadata": {},
          "execution_count": 9
        }
      ]
    },
    {
      "cell_type": "markdown",
      "metadata": {
        "id": "WAu9dF8JGkMH"
      },
      "source": [
        "There are columns with minimum values of zero. These are Pregnancies, Glucose, BloodPressure, Skinthickness, Insulin,BMI.\n",
        "While Zero pregnancies is okay, it is practically impossible to have a minimum of zero in the other parameters. We will treat these as missing values."
      ]
    },
    {
      "cell_type": "markdown",
      "metadata": {
        "id": "35NOFooieBVr"
      },
      "source": [
        "# Data Cleaning"
      ]
    },
    {
      "cell_type": "code",
      "metadata": {
        "id": "DakQAGz2NHDF"
      },
      "source": [
        "#replacing zero values with NaN\n",
        "diabetes_df[['Glucose','BloodPressure','SkinThickness','Insulin','BMI']] = diabetes_df[['Glucose','BloodPressure','SkinThickness','Insulin','BMI']].replace(0,np.NaN)"
      ],
      "execution_count": 10,
      "outputs": []
    },
    {
      "cell_type": "code",
      "metadata": {
        "colab": {
          "base_uri": "https://localhost:8080/"
        },
        "id": "qwuOJQooNhH3",
        "outputId": "35e88845-6bd4-4dfb-89db-7b151fa8479a"
      },
      "source": [
        "#checking the missing values \n",
        "diabetes_df.isnull().sum()"
      ],
      "execution_count": 11,
      "outputs": [
        {
          "output_type": "execute_result",
          "data": {
            "text/plain": [
              "Pregnancies                   0\n",
              "Glucose                       5\n",
              "BloodPressure                35\n",
              "SkinThickness               227\n",
              "Insulin                     374\n",
              "BMI                          11\n",
              "DiabetesPedigreeFunction      0\n",
              "Age                           0\n",
              "Outcome                       0\n",
              "dtype: int64"
            ]
          },
          "metadata": {},
          "execution_count": 11
        }
      ]
    },
    {
      "cell_type": "code",
      "metadata": {
        "colab": {
          "base_uri": "https://localhost:8080/",
          "height": 607
        },
        "id": "XSE1fkGnOMml",
        "outputId": "43c30d3d-e209-414b-abc5-81b315cb78cf"
      },
      "source": [
        "#To decide how to deal with the missing values we will plot histograms to check the distribution of the data\n",
        "# if symmetric replace missing values with the mean\n",
        "# if skewed replace missing values with mean or mode\n",
        "\n",
        "#Plotting histograms\n",
        "#Glucose,BloodPressure,SkinThickness,Insulin,BMI\n",
        "fig, axes = plt.subplots(nrows = 2, ncols = 3, figsize = (12, 10))\n",
        "\n",
        "plt.subplot(2, 3, 1)\n",
        "diabetes_df.Glucose.hist(color = '#ff7f0e')\n",
        "plt.title('Histogram of Glucose')\n",
        "\n",
        "plt.subplot(2, 3, 2)\n",
        "diabetes_df.BloodPressure.hist(color = '#d65e44')\n",
        "plt.title('Histogram of BloodPressure')\n",
        "\n",
        "plt.subplot(2, 3, 3)\n",
        "diabetes_df.SkinThickness.hist(color = '#d9db4c')\n",
        "plt.title('Histogram of SkinThickness')\n",
        "\n",
        "plt.subplot(2, 3, 4)\n",
        "diabetes_df.Insulin.hist(color = '#fcc153')\n",
        "plt.title('Histogram of Insulin')\n",
        "\n",
        "plt.subplot(2, 3, 5)\n",
        "diabetes_df.BMI.hist(color = '#8f545f')\n",
        "plt.title('Histogram of BMI')\n",
        "\n",
        "\n",
        "plt.show()"
      ],
      "execution_count": 12,
      "outputs": [
        {
          "output_type": "display_data",
          "data": {
            "image/png": "[encoded data removed]",
            "text/plain": [
              "<Figure size 864x720 with 6 Axes>"
            ]
          },
          "metadata": {
            "needs_background": "light"
          }
        }
      ]
    },
    {
      "cell_type": "markdown",
      "metadata": {
        "id": "6o6tmr5YQkTP"
      },
      "source": [
        "Glucose and blood pressure are symmetrical while skin thickness, insulin and BMI are skewed to the right.\n",
        "We will therefore replace NaNs in Glucose and blood pressure with the mean and skin thickness, insulin and BMI with the median."
      ]
    },
    {
      "cell_type": "code",
      "metadata": {
        "id": "JIth_gugRRZN"
      },
      "source": [
        "#replacing missing values \n",
        "\n",
        "diabetes_df[['Glucose','BloodPressure']]=diabetes_df[['Glucose','BloodPressure']].fillna((diabetes_df[['Glucose','BloodPressure']].mean()))\n",
        "diabetes_df[['SkinThickness','Insulin','BMI']] = diabetes_df[['SkinThickness','Insulin','BMI']].fillna((diabetes_df[['SkinThickness','Insulin','BMI']].median()))\n"
      ],
      "execution_count": 13,
      "outputs": []
    },
    {
      "cell_type": "code",
      "metadata": {
        "colab": {
          "base_uri": "https://localhost:8080/"
        },
        "id": "Lks7SKNcWyLE",
        "outputId": "c43ba9f4-ac93-4efd-f2c3-3aa209129542"
      },
      "source": [
        "#checking for missing values\n",
        "diabetes_df.isnull().sum()"
      ],
      "execution_count": 14,
      "outputs": [
        {
          "output_type": "execute_result",
          "data": {
            "text/plain": [
              "Pregnancies                 0\n",
              "Glucose                     0\n",
              "BloodPressure               0\n",
              "SkinThickness               0\n",
              "Insulin                     0\n",
              "BMI                         0\n",
              "DiabetesPedigreeFunction    0\n",
              "Age                         0\n",
              "Outcome                     0\n",
              "dtype: int64"
            ]
          },
          "metadata": {},
          "execution_count": 14
        }
      ]
    },
    {
      "cell_type": "markdown",
      "metadata": {
        "id": "Oxvbfvl5eIr6"
      },
      "source": [
        "# Data Preparation"
      ]
    },
    {
      "cell_type": "code",
      "metadata": {
        "id": "6EoT5A1go6LX"
      },
      "source": [
        "#importing model\n",
        "from sklearn.model_selection import train_test_split"
      ],
      "execution_count": 15,
      "outputs": []
    },
    {
      "cell_type": "code",
      "metadata": {
        "colab": {
          "base_uri": "https://localhost:8080/"
        },
        "id": "XVSxbHMGeKpB",
        "outputId": "f7985b05-7f93-4861-c631-d158508b5154"
      },
      "source": [
        "#Spliting data in to two sets\n",
        "\n",
        "diabetes_train, diabetes_valid = train_test_split(diabetes_df, test_size=0.25, random_state=12345)\n",
        "\n",
        "features_train=diabetes_train.drop(['Outcome'],axis=1)\n",
        "\n",
        "features_valid = diabetes_valid.drop(['Outcome'],axis=1)\n",
        "\n",
        "target_train = diabetes_train['Outcome']\n",
        "\n",
        "target_valid= diabetes_valid['Outcome']\n",
        "\n",
        "print(features_train.shape)\n",
        "print(target_train.shape)\n",
        "print(features_valid.shape)\n",
        "print(target_valid.shape)"
      ],
      "execution_count": 16,
      "outputs": [
        {
          "output_type": "stream",
          "name": "stdout",
          "text": [
            "(576, 8)\n",
            "(576,)\n",
            "(192, 8)\n",
            "(192,)\n"
          ]
        }
      ]
    },
    {
      "cell_type": "markdown",
      "metadata": {
        "id": "pb_c4LC5oSOi"
      },
      "source": [
        "# Data Modelling"
      ]
    },
    {
      "cell_type": "markdown",
      "metadata": {
        "id": "69xXRwxyohmw"
      },
      "source": [
        "# Decision Tree Classifier"
      ]
    },
    {
      "cell_type": "code",
      "metadata": {
        "colab": {
          "base_uri": "https://localhost:8080/"
        },
        "id": "YOrJd82bolB4",
        "outputId": "f0632211-33db-4cd8-e49b-44ab685168ba"
      },
      "source": [
        "#importing model\n",
        "from sklearn.tree import DecisionTreeClassifier\n",
        "from sklearn.metrics import accuracy_score\n",
        "from sklearn import metrics\n",
        "from sklearn.model_selection import train_test_split\n",
        "\n",
        "diabetes_train, diabetes_test = train_test_split(diabetes_df, test_size=0.25, random_state=12345)\n",
        "\n",
        "features_train=diabetes_train.drop(['Outcome'],axis=1)  #X\n",
        "\n",
        "features_test = diabetes_valid.drop(['Outcome'],axis=1) #y\n",
        "\n",
        "target_train = diabetes_train['Outcome']\n",
        "\n",
        "target_test= diabetes_valid['Outcome']\n",
        "\n",
        "print(features_train.shape)\n",
        "print(target_train.shape)\n",
        "print(features_test.shape)\n",
        "print(target_test.shape)\n",
        "\n",
        "\n",
        "# creating the model\n",
        "model = DecisionTreeClassifier(random_state=12345)\n",
        "\n",
        "#Training the model\n",
        "model.fit(features_train, target_train)\n",
        "\n",
        "#prediction\n",
        "predictions_test = model.predict(features_test)\n",
        "\n",
        "#accuracy\n",
        "accuracy_test = accuracy_score(target_test, predictions_test)\n",
        "\n",
        "print('Accuracy score of test dt: ', accuracy_test)\n",
        "\n"
      ],
      "execution_count": 17,
      "outputs": [
        {
          "output_type": "stream",
          "name": "stdout",
          "text": [
            "(576, 8)\n",
            "(576,)\n",
            "(192, 8)\n",
            "(192,)\n",
            "Accuracy score of test dt:  0.7760416666666666\n"
          ]
        }
      ]
    },
    {
      "cell_type": "markdown",
      "metadata": {
        "id": "Ipjm3yAosd7n"
      },
      "source": [
        "Decision Tree classifier accuracy score of 77% "
      ]
    },
    {
      "cell_type": "markdown",
      "metadata": {
        "id": "ZdN7za5hsz6p"
      },
      "source": [
        "# Random Forest Classifier"
      ]
    },
    {
      "cell_type": "code",
      "metadata": {
        "colab": {
          "base_uri": "https://localhost:8080/"
        },
        "id": "IOZ27tXW1ehP",
        "outputId": "a1ee9232-94e9-4da6-e06e-4ec5852c1b47"
      },
      "source": [
        "from sklearn.ensemble import RandomForestClassifier \n",
        "\n",
        "#diabetes_train, diabetes_valid = train_test_split(diabetes_df, test_size=0.25, random_state=12345)\n",
        "\n",
        " #storing the model in a variable\n",
        "model_rf = RandomForestClassifier(random_state=12345, n_estimators=3)\n",
        "\n",
        "#Training the model\n",
        "model_rf.fit(features_train, target_train)\n",
        "\n",
        "#Prediction\n",
        "prediction_test_rf = model_rf.predict(features_test)\n",
        "\n",
        "#accuracy\n",
        "accuracy_test_rf = accuracy_score(target_test, prediction_test_rf)\n",
        "\n",
        "print('Accuracy of test rf: ',accuracy_test_rf)\n",
        "\n"
      ],
      "execution_count": 18,
      "outputs": [
        {
          "output_type": "stream",
          "name": "stdout",
          "text": [
            "Accuracy of test rf:  0.75\n"
          ]
        }
      ]
    },
    {
      "cell_type": "markdown",
      "metadata": {
        "id": "vLsrrDtvFQDv"
      },
      "source": [
        "# Logistic Regression"
      ]
    },
    {
      "cell_type": "code",
      "metadata": {
        "colab": {
          "base_uri": "https://localhost:8080/"
        },
        "id": "U61uoVuqJl3W",
        "outputId": "7e709a6b-79a0-4a73-b97c-e3e96a40dda0"
      },
      "source": [
        "from sklearn.linear_model import LogisticRegression #importing the model\n",
        "\n",
        "#storing the model in a variable\n",
        "lr_model = LogisticRegression(random_state=12345, solver='liblinear') \n",
        "\n",
        "#training the model\n",
        "lr_model.fit(features_train, target_train) \n",
        "\n",
        "#prediction\n",
        "test_prediction_lr = lr_model.predict(features_test)\n",
        "\n",
        "#accuracy\n",
        "accuracy_test_lr = accuracy_score(target_test,test_prediction_lr )\n",
        "\n",
        "\n",
        "print('Accuracy of test lr: ',accuracy_test_lr)"
      ],
      "execution_count": 19,
      "outputs": [
        {
          "output_type": "stream",
          "name": "stdout",
          "text": [
            "Accuracy of test lr:  0.796875\n"
          ]
        }
      ]
    },
    {
      "cell_type": "markdown",
      "metadata": {
        "id": "xDmaWvy8RpHW"
      },
      "source": [
        "#Model Evaluation"
      ]
    },
    {
      "cell_type": "markdown",
      "metadata": {
        "id": "ZgCzQ1RKRtuk"
      },
      "source": [
        "Decision Tree Classifier\n",
        "\n",
        "\n",
        "\n",
        "\n",
        "\n",
        "\n"
      ]
    },
    {
      "cell_type": "code",
      "metadata": {
        "colab": {
          "base_uri": "https://localhost:8080/"
        },
        "id": "lDpZOrQISRwl",
        "outputId": "78c23ec3-42a0-4bd7-f561-9a9c15c604e7"
      },
      "source": [
        "# creating the model\n",
        "model = DecisionTreeClassifier(random_state=12345)\n",
        "\n",
        "#Training the model\n",
        "model.fit(features_train, target_train)\n",
        "\n",
        "#prediction\n",
        "predictions_test = model.predict(features_test)\n",
        "\n",
        "\n",
        "#accuracy\n",
        "accuracy_test = accuracy_score(target_test, predictions_test)\n",
        "\n",
        "\n",
        "print('Accuracy score of test dt: ', accuracy_test)\n"
      ],
      "execution_count": 20,
      "outputs": [
        {
          "output_type": "stream",
          "name": "stdout",
          "text": [
            "Accuracy score of test dt:  0.7760416666666666\n"
          ]
        }
      ]
    },
    {
      "cell_type": "markdown",
      "metadata": {
        "id": "CELyylbdT3h6"
      },
      "source": [
        "Random Forest Classifier"
      ]
    },
    {
      "cell_type": "code",
      "metadata": {
        "colab": {
          "base_uri": "https://localhost:8080/"
        },
        "id": "1CVzJgWzT7VL",
        "outputId": "5ee7865c-052a-461c-effb-b8c3f7c661cd"
      },
      "source": [
        " #storing the model in a variable\n",
        "model_rf = RandomForestClassifier(random_state=12345, n_estimators=3)\n",
        "\n",
        "#Training the model\n",
        "model_rf.fit(features_train, target_train)\n",
        "\n",
        "#Prediction\n",
        "prediction_test_rf = model_rf.predict(features_test)\n",
        "\n",
        "#accuracy\n",
        "accuracy_test_rf = accuracy_score(target_test, prediction_test_rf)\n",
        "\n",
        "print('Accuracy of test rf: ',accuracy_test_rf)\n"
      ],
      "execution_count": 21,
      "outputs": [
        {
          "output_type": "stream",
          "name": "stdout",
          "text": [
            "Accuracy of test rf:  0.75\n"
          ]
        }
      ]
    },
    {
      "cell_type": "markdown",
      "metadata": {
        "id": "NMoIK0lwUXDT"
      },
      "source": [
        "Logistic Regression"
      ]
    },
    {
      "cell_type": "code",
      "metadata": {
        "colab": {
          "base_uri": "https://localhost:8080/"
        },
        "id": "1gKn_kfMUZlr",
        "outputId": "1e9e103d-f9d8-46ab-d333-f8553791f716"
      },
      "source": [
        "#storing the model in a variable\n",
        "lr_model = LogisticRegression(random_state=12345, solver='liblinear') \n",
        "\n",
        "#training the model\n",
        "lr_model.fit(features_train, target_train) \n",
        "\n",
        "#prediction\n",
        "test_prediction_lr = lr_model.predict(features_test)\n",
        "train_prediction_lr = lr_model.predict(features_train)\n",
        "\n",
        "#accuracy\n",
        "accuracy_test_lr = accuracy_score(target_test,test_prediction_lr)\n",
        "accuracy_train_lr = accuracy_score(target_train,train_prediction_lr)\n",
        "\n",
        "print('Accuracy of test lr: ',accuracy_test_lr)\n",
        "print('Accuracy of train lr: ',accuracy_train_lr)"
      ],
      "execution_count": 22,
      "outputs": [
        {
          "output_type": "stream",
          "name": "stdout",
          "text": [
            "Accuracy of test lr:  0.796875\n",
            "Accuracy of train lr:  0.7604166666666666\n"
          ]
        }
      ]
    },
    {
      "cell_type": "markdown",
      "metadata": {
        "id": "-sZw6kAtU08L"
      },
      "source": [
        "#Tuning Hyperparameters"
      ]
    },
    {
      "cell_type": "markdown",
      "metadata": {
        "id": "dVlxsTwWVCo6"
      },
      "source": [
        "Decision Tree Classifier"
      ]
    },
    {
      "cell_type": "code",
      "metadata": {
        "colab": {
          "base_uri": "https://localhost:8080/"
        },
        "id": "oQPoAF2GVDvp",
        "outputId": "c5e5a171-3053-4b67-b742-baffd8d9a195"
      },
      "source": [
        "for depth in range(1, 15):\n",
        "        model = DecisionTreeClassifier(random_state=12345,max_depth=depth)# < create a model, specify max_depth=depth >\n",
        "        \n",
        "        model.fit(features_train, target_train)\n",
        "\n",
        "        predictions_test = model.predict(features_test)\n",
        "\n",
        "        accuracy_score(target_test, predictions_test)\n",
        "\n",
        "        # predictions_valid = # < find the predictions using validation set >\n",
        "\n",
        "        print(\"max_depth =\", depth, \": \", end='')\n",
        "        print(accuracy_score(target_test, predictions_test))"
      ],
      "execution_count": 23,
      "outputs": [
        {
          "output_type": "stream",
          "name": "stdout",
          "text": [
            "max_depth = 1 : 0.7708333333333334\n",
            "max_depth = 2 : 0.7708333333333334\n",
            "max_depth = 3 : 0.765625\n",
            "max_depth = 4 : 0.7395833333333334\n",
            "max_depth = 5 : 0.7708333333333334\n",
            "max_depth = 6 : 0.765625\n",
            "max_depth = 7 : 0.7083333333333334\n",
            "max_depth = 8 : 0.7135416666666666\n",
            "max_depth = 9 : 0.75\n",
            "max_depth = 10 : 0.7447916666666666\n",
            "max_depth = 11 : 0.7708333333333334\n",
            "max_depth = 12 : 0.75\n",
            "max_depth = 13 : 0.7760416666666666\n",
            "max_depth = 14 : 0.7552083333333334\n"
          ]
        }
      ]
    },
    {
      "cell_type": "markdown",
      "metadata": {
        "id": "XKAE52ZrNBOj"
      },
      "source": [
        "Choosing the lowest depth with the highest score, we will work with max_depth of 13 with accuracy score of 77.6%"
      ]
    },
    {
      "cell_type": "code",
      "metadata": {
        "colab": {
          "base_uri": "https://localhost:8080/"
        },
        "id": "40KeeQy_WzyB",
        "outputId": "e14546fe-d0fe-45fc-da11-20c4760a0608"
      },
      "source": [
        "# creating the model with max_depth 13\n",
        "model = DecisionTreeClassifier(random_state=12345,max_depth=13)\n",
        "\n",
        "#Training the model\n",
        "model.fit(features_train, target_train)\n",
        "\n",
        "#prediction\n",
        "predictions_test = model.predict(features_test)\n",
        "\n",
        "#accuracy\n",
        "accuracy_test = accuracy_score(target_test, predictions_test)\n",
        "\n",
        "print('Accuracy score of test dt: ', accuracy_test)"
      ],
      "execution_count": 24,
      "outputs": [
        {
          "output_type": "stream",
          "name": "stdout",
          "text": [
            "Accuracy score of test dt:  0.7760416666666666\n"
          ]
        }
      ]
    },
    {
      "cell_type": "markdown",
      "metadata": {
        "id": "TUWUg6K4ZT_x"
      },
      "source": [
        "Random Forest Classifier"
      ]
    },
    {
      "cell_type": "code",
      "metadata": {
        "colab": {
          "base_uri": "https://localhost:8080/"
        },
        "id": "lSYAnMa1ZVUf",
        "outputId": "dcb8661a-a043-48cd-b6d5-f1531e899b9d"
      },
      "source": [
        "#assuming a max_depth of 13 we tune our random forest\n",
        "\n",
        "for estimator in range(1,15):\n",
        "        model_rf = RandomForestClassifier(random_state=12345, max_depth=13, n_estimators=estimator)\n",
        "        \n",
        "        model_rf.fit(features_train, target_train)\n",
        "\n",
        "        prediction_test_rf = model_rf.predict(features_test)\n",
        "        #score(test_features, target)\n",
        "        #predictions = model.predict(test_features)\n",
        "        accuracy_test_rf = accuracy_score(target_test, prediction_test_rf)\n",
        "       \n",
        "        print(\"estimator =\", estimator, \": \", end='')\n",
        "        print(accuracy_score(target_test, prediction_test_rf))"
      ],
      "execution_count": 25,
      "outputs": [
        {
          "output_type": "stream",
          "name": "stdout",
          "text": [
            "estimator = 1 : 0.7447916666666666\n",
            "estimator = 2 : 0.7604166666666666\n",
            "estimator = 3 : 0.7708333333333334\n",
            "estimator = 4 : 0.7708333333333334\n",
            "estimator = 5 : 0.8020833333333334\n",
            "estimator = 6 : 0.7864583333333334\n",
            "estimator = 7 : 0.7864583333333334\n",
            "estimator = 8 : 0.78125\n",
            "estimator = 9 : 0.8229166666666666\n",
            "estimator = 10 : 0.796875\n",
            "estimator = 11 : 0.7916666666666666\n",
            "estimator = 12 : 0.796875\n",
            "estimator = 13 : 0.7864583333333334\n",
            "estimator = 14 : 0.78125\n"
          ]
        }
      ]
    },
    {
      "cell_type": "markdown",
      "metadata": {
        "id": "nXFiCoPoP3K4"
      },
      "source": [
        "Estimator 9 has the highest accuracy score of 82.29%"
      ]
    },
    {
      "cell_type": "code",
      "metadata": {
        "colab": {
          "base_uri": "https://localhost:8080/"
        },
        "id": "0vfyAYOtWzrK",
        "outputId": "b8a9f446-3d0d-4bbd-d785-f5a534fb0050"
      },
      "source": [
        " #storing the model in a variable\n",
        "model_rf = RandomForestClassifier(random_state=12345, max_depth=13, n_estimators=9)\n",
        "\n",
        "#Training the model\n",
        "model_rf.fit(features_train, target_train)\n",
        "\n",
        "#Prediction\n",
        "prediction_test_rf = model_rf.predict(features_test)\n",
        "\n",
        "#accuracy\n",
        "accuracy_test_rf = accuracy_score(target_test, prediction_test_rf)\n",
        "\n",
        "print('Accuracy of test rf: ',accuracy_test_rf)"
      ],
      "execution_count": 27,
      "outputs": [
        {
          "output_type": "stream",
          "name": "stdout",
          "text": [
            "Accuracy of test rf:  0.8229166666666666\n"
          ]
        }
      ]
    },
    {
      "cell_type": "code",
      "metadata": {
        "colab": {
          "base_uri": "https://localhost:8080/"
        },
        "id": "a1a683O-fWpK",
        "outputId": "8752a083-1752-42bb-f88d-a105a121b9ef"
      },
      "source": [
        "#tuning min_sample_leaf\n",
        "for min_samples_leaf in range(1,15):\n",
        "        model_rf = RandomForestClassifier(random_state=12345, max_depth=13, n_estimators=9, min_samples_leaf=min_samples_leaf)\n",
        "        \n",
        "        model_rf.fit(features_train, target_train)\n",
        "\n",
        "        prediction_test_rf = model_rf.predict(features_test)\n",
        "        #score(test_features, target)\n",
        "        #predictions = model.predict(test_features)\n",
        "        accuracy_test_rf = accuracy_score(target_test, prediction_test_rf)\n",
        "       \n",
        "        print(\"max_leaf_nodes =\", min_samples_leaf, \": \", end='')\n",
        "        print(accuracy_score(target_test, prediction_test_rf))"
      ],
      "execution_count": 41,
      "outputs": [
        {
          "output_type": "stream",
          "name": "stdout",
          "text": [
            "max_leaf_nodes = 1 : 0.8229166666666666\n",
            "max_leaf_nodes = 2 : 0.7916666666666666\n",
            "max_leaf_nodes = 3 : 0.796875\n",
            "max_leaf_nodes = 4 : 0.8177083333333334\n",
            "max_leaf_nodes = 5 : 0.7760416666666666\n",
            "max_leaf_nodes = 6 : 0.8125\n",
            "max_leaf_nodes = 7 : 0.7864583333333334\n",
            "max_leaf_nodes = 8 : 0.8333333333333334\n",
            "max_leaf_nodes = 9 : 0.8125\n",
            "max_leaf_nodes = 10 : 0.796875\n",
            "max_leaf_nodes = 11 : 0.8020833333333334\n",
            "max_leaf_nodes = 12 : 0.8177083333333334\n",
            "max_leaf_nodes = 13 : 0.828125\n",
            "max_leaf_nodes = 14 : 0.8125\n"
          ]
        }
      ]
    },
    {
      "cell_type": "code",
      "metadata": {
        "colab": {
          "base_uri": "https://localhost:8080/"
        },
        "id": "Xqk3GFRN6vCu",
        "outputId": "4caf0967-fa33-42ad-cf66-f042a8c30d85"
      },
      "source": [
        " #storing the model in a variable\n",
        "model_rf = RandomForestClassifier(random_state=12345, max_depth=13, n_estimators=9,min_samples_leaf=8)\n",
        "\n",
        "#Training the model\n",
        "model_rf.fit(features_train, target_train)\n",
        "\n",
        "#Prediction\n",
        "prediction_test_rf = model_rf.predict(features_test)\n",
        "\n",
        "#accuracy\n",
        "accuracy_test_rf = accuracy_score(target_test, prediction_test_rf)\n",
        "\n",
        "print('Accuracy of test rf: ',accuracy_test_rf)"
      ],
      "execution_count": 45,
      "outputs": [
        {
          "output_type": "stream",
          "name": "stdout",
          "text": [
            "Accuracy of test rf:  0.8333333333333334\n"
          ]
        }
      ]
    },
    {
      "cell_type": "markdown",
      "metadata": {
        "id": "fuNsapouXMLX"
      },
      "source": [
        "Logistic Regression"
      ]
    },
    {
      "cell_type": "code",
      "metadata": {
        "colab": {
          "base_uri": "https://localhost:8080/"
        },
        "id": "1C5zHWdpXRCu",
        "outputId": "eb8ee9d1-d73e-461d-c287-82714bf923fd"
      },
      "source": [
        "C_parameter_range = [0.001,0.01,0.1,1,10,100]\n",
        "\n",
        "for i in C_parameter_range:\n",
        "    \n",
        "    # Apply logistic regression model to training data\n",
        "    #lr = LogisticRegression(penalty = 'l2', C = i,random_state = 0)\n",
        "    lr_model = LogisticRegression(random_state=12345, solver='liblinear',C=i) \n",
        "\n",
        "    #lr.fit(X_train_sepal_std,y_train_sepal)\n",
        "    lr_model.fit(features_train, target_train)\n",
        "\n",
        "    # Predict using model\n",
        "    test_prediction_lr = lr_model.predict(features_test)\n",
        "    \n",
        "    # Saving accuracy score in table\n",
        "    # table.iloc[c,1] = accuracy_score(target_test,test_prediction_lr)\n",
        "    # c += 1\n",
        "\n",
        "    accuracy_test_lr = accuracy_score(target_test,test_prediction_lr )\n",
        "\n",
        "\n",
        "    print(\"C =\",i,\": \", end='')\n",
        "    print(accuracy_score(target_test,test_prediction_lr))"
      ],
      "execution_count": 33,
      "outputs": [
        {
          "output_type": "stream",
          "name": "stdout",
          "text": [
            "C = 0.001 : 0.7291666666666666\n",
            "C = 0.01 : 0.734375\n",
            "C = 0.1 : 0.7552083333333334\n",
            "C = 1 : 0.796875\n",
            "C = 10 : 0.796875\n",
            "C = 100 : 0.8072916666666666\n"
          ]
        }
      ]
    },
    {
      "cell_type": "markdown",
      "metadata": {
        "id": "nSShDobYdE6M"
      },
      "source": [
        "C=100 gives the highest accuracy score but since parameter C is used for regularization smaller values of C increase regularization strength of the model. We will therefore stick to the default of 1 with accuracy of 79.68% to avoid over or underfitting"
      ]
    },
    {
      "cell_type": "code",
      "metadata": {
        "colab": {
          "base_uri": "https://localhost:8080/"
        },
        "id": "tKzcb9P--bez",
        "outputId": "70cea25d-bc11-4b20-dca4-afe9b5b325b5"
      },
      "source": [
        "lr_model = LogisticRegression(random_state=12345, solver='liblinear') \n",
        "\n",
        "#training the model\n",
        "lr_model.fit(features_train, target_train) \n",
        "\n",
        "#prediction\n",
        "test_prediction_lr = lr_model.predict(features_test)\n",
        "\n",
        "#accuracy\n",
        "accuracy_test_lr = accuracy_score(target_test,test_prediction_lr )\n",
        "\n",
        "\n",
        "print('Accuracy of test lr: ',accuracy_test_lr)"
      ],
      "execution_count": 53,
      "outputs": [
        {
          "output_type": "stream",
          "name": "stdout",
          "text": [
            "Accuracy of test lr:  0.796875\n"
          ]
        }
      ]
    },
    {
      "cell_type": "markdown",
      "metadata": {
        "id": "c06fk_nJ9g8c"
      },
      "source": [
        "#Sanity Check"
      ]
    },
    {
      "cell_type": "code",
      "metadata": {
        "colab": {
          "base_uri": "https://localhost:8080/"
        },
        "id": "VbBNbuTV9wZb",
        "outputId": "2c779847-899e-4905-e7fb-85fd23182273"
      },
      "source": [
        "#Decision Tree Classifier\n",
        "series_predicted_DT = pd.Series(predictions_test)\n",
        "predicted_frequency_DT = series_predicted_DT.value_counts(normalize=True)\n",
        "predicted_frequency_DT"
      ],
      "execution_count": 52,
      "outputs": [
        {
          "output_type": "execute_result",
          "data": {
            "text/plain": [
              "0    0.661458\n",
              "1    0.338542\n",
              "dtype: float64"
            ]
          },
          "metadata": {},
          "execution_count": 52
        }
      ]
    },
    {
      "cell_type": "code",
      "metadata": {
        "colab": {
          "base_uri": "https://localhost:8080/"
        },
        "id": "fYzWwQUd8ZGL",
        "outputId": "cdf80f12-30b2-4210-9dee-c6a7267b9a23"
      },
      "source": [
        "#Random Forest Classifier\n",
        "series_predicted = pd.Series(prediction_test_rf)\n",
        "predicted_frequency = series_predicted.value_counts(normalize=True)\n",
        "predicted_frequency"
      ],
      "execution_count": 51,
      "outputs": [
        {
          "output_type": "execute_result",
          "data": {
            "text/plain": [
              "0    0.75\n",
              "1    0.25\n",
              "dtype: float64"
            ]
          },
          "metadata": {},
          "execution_count": 51
        }
      ]
    },
    {
      "cell_type": "code",
      "metadata": {
        "colab": {
          "base_uri": "https://localhost:8080/"
        },
        "id": "WftDCXP8-MxU",
        "outputId": "e31a69c9-1259-471c-f31c-15947e19d835"
      },
      "source": [
        "#Logistic Regression\n",
        "series_predicted_LR = pd.Series(test_prediction_lr)\n",
        "predicted_frequency_LR = series_predicted_LR.value_counts(normalize=True)\n",
        "predicted_frequency_LR"
      ],
      "execution_count": 54,
      "outputs": [
        {
          "output_type": "execute_result",
          "data": {
            "text/plain": [
              "0    0.807292\n",
              "1    0.192708\n",
              "dtype: float64"
            ]
          },
          "metadata": {},
          "execution_count": 54
        }
      ]
    },
    {
      "cell_type": "markdown",
      "metadata": {
        "id": "CIdEvTv1eJ3x"
      },
      "source": [
        "# Findings and Recommendations"
      ]
    },
    {
      "cell_type": "markdown",
      "metadata": {
        "id": "KesNnAN7eOKA"
      },
      "source": [
        "Random forest classifier has the highest accuracy of 83.33% compared to Decision tree and logistic regression\n",
        "Random Forest predicts 25% will be promoted compared to 33% of decision tree and 19% of Logistic regression\n",
        "i'd recommend the Random forest as it has a relatively higher accuracy score "
      ]
    }
  ]
}