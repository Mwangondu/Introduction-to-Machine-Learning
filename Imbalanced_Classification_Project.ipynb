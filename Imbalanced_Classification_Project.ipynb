{
  "nbformat": 4,
  "nbformat_minor": 0,
  "metadata": {
    "colab": {
      "name": "Imbalanced Classification Project.ipynb",
      "provenance": [],
      "collapsed_sections": [],
      "toc_visible": true
    },
    "kernelspec": {
      "name": "python3",
      "display_name": "Python 3"
    },
    "language_info": {
      "name": "python"
    }
  },
  "cells": [
    {
      "cell_type": "markdown",
      "metadata": {
        "id": "_19EvAr9YSSY"
      },
      "source": [
        "# Imbalanced Classification Project"
      ]
    },
    {
      "cell_type": "markdown",
      "metadata": {
        "id": "i8g3ImzXYWvX"
      },
      "source": [
        "# Defining the question"
      ]
    },
    {
      "cell_type": "markdown",
      "metadata": {
        "id": "2Z9G3tfRYe7G"
      },
      "source": [
        "#a) Specifying the data analysis question"
      ]
    },
    {
      "cell_type": "markdown",
      "metadata": {
        "id": "iVoO3GmFYiWX"
      },
      "source": [
        "Beta Bank would like to build a model to predict whether a customer will leave the bank soon."
      ]
    },
    {
      "cell_type": "markdown",
      "metadata": {
        "id": "uZ4akRmgY88o"
      },
      "source": [
        "#b) Defining the Metric for Success"
      ]
    },
    {
      "cell_type": "markdown",
      "metadata": {
        "id": "36PBFGn7ZAA9"
      },
      "source": [
        "We will have accomplished our objective if we can develop a model that will predict whether a customer will leave the bank soon."
      ]
    },
    {
      "cell_type": "markdown",
      "metadata": {
        "id": "-j8rkOjAZHr2"
      },
      "source": [
        " # c)Understanding the Context"
      ]
    },
    {
      "cell_type": "markdown",
      "metadata": {
        "id": "ZAE_J3HMZOn-"
      },
      "source": [
        "Beta Bank customers are leaving: little by little, chipping away every month. The bankers\n",
        "figured out it’s cheaper to save the existing customers rather than to attract new ones.\n",
        "The bank needs to predict whether a customer will leave the bank soon.\n",
        "The clients’ past behavior and termination of contracts with the bank is available"
      ]
    },
    {
      "cell_type": "markdown",
      "metadata": {
        "id": "P1oWLxo9ZvMe"
      },
      "source": [
        "# d) Recording the Experimental Design"
      ]
    },
    {
      "cell_type": "markdown",
      "metadata": {
        "id": "fAxZdTq1Zxv-"
      },
      "source": [
        "\n",
        "\n",
        "1. Importing libraries\n",
        "2. Data Importation\n",
        "3. Data Modeling\n",
        "4. Model Evaluation\n",
        "5. Hyparameter Tuning\n",
        "6. Sanity Check\n",
        "7. Findings and Recommendations\n",
        "\n",
        "\n"
      ]
    },
    {
      "cell_type": "markdown",
      "metadata": {
        "id": "WX1J4TOSZ_51"
      },
      "source": [
        "# e) Data Relevance"
      ]
    },
    {
      "cell_type": "markdown",
      "metadata": {
        "id": "DSipq1IHaBzH"
      },
      "source": [
        "The data was relevant for the analysis"
      ]
    },
    {
      "cell_type": "markdown",
      "metadata": {
        "id": "7yrzb_m8eWCr"
      },
      "source": [
        "#Data importation and preparation"
      ]
    },
    {
      "cell_type": "code",
      "metadata": {
        "id": "okZbVOhDedA1"
      },
      "source": [
        "#importing the libraries\n",
        "import pandas as pd\n",
        "import numpy as np\n",
        "from sklearn.model_selection import train_test_split\n",
        "from sklearn.preprocessing import StandardScaler\n",
        "from sklearn.linear_model import LogisticRegression\n",
        "from sklearn.metrics import f1_score\n",
        "from sklearn.metrics import accuracy_score\n",
        "from sklearn.metrics import recall_score\n",
        "from sklearn.metrics import precision_score\n",
        "from sklearn.utils import resample\n",
        "from sklearn.metrics import roc_auc_score\n",
        "from sklearn.utils import shuffle\n",
        "from sklearn.tree import DecisionTreeClassifier\n",
        "from sklearn.ensemble import RandomForestClassifier\n",
        "from sklearn.metrics import roc_curve"
      ],
      "execution_count": null,
      "outputs": []
    },
    {
      "cell_type": "code",
      "metadata": {
        "colab": {
          "base_uri": "https://localhost:8080/",
          "height": 224
        },
        "id": "wAQ_8JXGfYYs",
        "outputId": "59d08221-f5b3-4dee-e8d3-7641a2f8f348"
      },
      "source": [
        "#importing the data\n",
        "bank_df = pd.read_csv('https://bit.ly/2XZK7Bo')\n",
        "#previewing first 5 records\n",
        "bank_df.head()"
      ],
      "execution_count": null,
      "outputs": [
        {
          "output_type": "execute_result",
          "data": {
            "text/html": [
              "<div>\n",
              "<style scoped>\n",
              "    .dataframe tbody tr th:only-of-type {\n",
              "        vertical-align: middle;\n",
              "    }\n",
              "\n",
              "    .dataframe tbody tr th {\n",
              "        vertical-align: top;\n",
              "    }\n",
              "\n",
              "    .dataframe thead th {\n",
              "        text-align: right;\n",
              "    }\n",
              "</style>\n",
              "<table border=\"1\" class=\"dataframe\">\n",
              "  <thead>\n",
              "    <tr style=\"text-align: right;\">\n",
              "      <th></th>\n",
              "      <th>RowNumber</th>\n",
              "      <th>CustomerId</th>\n",
              "      <th>Surname</th>\n",
              "      <th>CreditScore</th>\n",
              "      <th>Geography</th>\n",
              "      <th>Gender</th>\n",
              "      <th>Age</th>\n",
              "      <th>Tenure</th>\n",
              "      <th>Balance</th>\n",
              "      <th>NumOfProducts</th>\n",
              "      <th>HasCrCard</th>\n",
              "      <th>IsActiveMember</th>\n",
              "      <th>EstimatedSalary</th>\n",
              "      <th>Exited</th>\n",
              "    </tr>\n",
              "  </thead>\n",
              "  <tbody>\n",
              "    <tr>\n",
              "      <th>0</th>\n",
              "      <td>1</td>\n",
              "      <td>15634602</td>\n",
              "      <td>Hargrave</td>\n",
              "      <td>619</td>\n",
              "      <td>France</td>\n",
              "      <td>Female</td>\n",
              "      <td>42</td>\n",
              "      <td>2.0</td>\n",
              "      <td>0.00</td>\n",
              "      <td>1</td>\n",
              "      <td>1</td>\n",
              "      <td>1</td>\n",
              "      <td>101348.88</td>\n",
              "      <td>1</td>\n",
              "    </tr>\n",
              "    <tr>\n",
              "      <th>1</th>\n",
              "      <td>2</td>\n",
              "      <td>15647311</td>\n",
              "      <td>Hill</td>\n",
              "      <td>608</td>\n",
              "      <td>Spain</td>\n",
              "      <td>Female</td>\n",
              "      <td>41</td>\n",
              "      <td>1.0</td>\n",
              "      <td>83807.86</td>\n",
              "      <td>1</td>\n",
              "      <td>0</td>\n",
              "      <td>1</td>\n",
              "      <td>112542.58</td>\n",
              "      <td>0</td>\n",
              "    </tr>\n",
              "    <tr>\n",
              "      <th>2</th>\n",
              "      <td>3</td>\n",
              "      <td>15619304</td>\n",
              "      <td>Onio</td>\n",
              "      <td>502</td>\n",
              "      <td>France</td>\n",
              "      <td>Female</td>\n",
              "      <td>42</td>\n",
              "      <td>8.0</td>\n",
              "      <td>159660.80</td>\n",
              "      <td>3</td>\n",
              "      <td>1</td>\n",
              "      <td>0</td>\n",
              "      <td>113931.57</td>\n",
              "      <td>1</td>\n",
              "    </tr>\n",
              "    <tr>\n",
              "      <th>3</th>\n",
              "      <td>4</td>\n",
              "      <td>15701354</td>\n",
              "      <td>Boni</td>\n",
              "      <td>699</td>\n",
              "      <td>France</td>\n",
              "      <td>Female</td>\n",
              "      <td>39</td>\n",
              "      <td>1.0</td>\n",
              "      <td>0.00</td>\n",
              "      <td>2</td>\n",
              "      <td>0</td>\n",
              "      <td>0</td>\n",
              "      <td>93826.63</td>\n",
              "      <td>0</td>\n",
              "    </tr>\n",
              "    <tr>\n",
              "      <th>4</th>\n",
              "      <td>5</td>\n",
              "      <td>15737888</td>\n",
              "      <td>Mitchell</td>\n",
              "      <td>850</td>\n",
              "      <td>Spain</td>\n",
              "      <td>Female</td>\n",
              "      <td>43</td>\n",
              "      <td>2.0</td>\n",
              "      <td>125510.82</td>\n",
              "      <td>1</td>\n",
              "      <td>1</td>\n",
              "      <td>1</td>\n",
              "      <td>79084.10</td>\n",
              "      <td>0</td>\n",
              "    </tr>\n",
              "  </tbody>\n",
              "</table>\n",
              "</div>"
            ],
            "text/plain": [
              "   RowNumber  CustomerId   Surname  ...  IsActiveMember EstimatedSalary Exited\n",
              "0          1    15634602  Hargrave  ...               1       101348.88      1\n",
              "1          2    15647311      Hill  ...               1       112542.58      0\n",
              "2          3    15619304      Onio  ...               0       113931.57      1\n",
              "3          4    15701354      Boni  ...               0        93826.63      0\n",
              "4          5    15737888  Mitchell  ...               1        79084.10      0\n",
              "\n",
              "[5 rows x 14 columns]"
            ]
          },
          "metadata": {},
          "execution_count": 83
        }
      ]
    },
    {
      "cell_type": "code",
      "metadata": {
        "colab": {
          "base_uri": "https://localhost:8080/",
          "height": 224
        },
        "id": "ESerQ6SbhizZ",
        "outputId": "f4e0ba14-b0ad-4fa9-e486-58de1e470aeb"
      },
      "source": [
        "#previewing last 5 records\n",
        "bank_df.tail()"
      ],
      "execution_count": null,
      "outputs": [
        {
          "output_type": "execute_result",
          "data": {
            "text/html": [
              "<div>\n",
              "<style scoped>\n",
              "    .dataframe tbody tr th:only-of-type {\n",
              "        vertical-align: middle;\n",
              "    }\n",
              "\n",
              "    .dataframe tbody tr th {\n",
              "        vertical-align: top;\n",
              "    }\n",
              "\n",
              "    .dataframe thead th {\n",
              "        text-align: right;\n",
              "    }\n",
              "</style>\n",
              "<table border=\"1\" class=\"dataframe\">\n",
              "  <thead>\n",
              "    <tr style=\"text-align: right;\">\n",
              "      <th></th>\n",
              "      <th>RowNumber</th>\n",
              "      <th>CustomerId</th>\n",
              "      <th>Surname</th>\n",
              "      <th>CreditScore</th>\n",
              "      <th>Geography</th>\n",
              "      <th>Gender</th>\n",
              "      <th>Age</th>\n",
              "      <th>Tenure</th>\n",
              "      <th>Balance</th>\n",
              "      <th>NumOfProducts</th>\n",
              "      <th>HasCrCard</th>\n",
              "      <th>IsActiveMember</th>\n",
              "      <th>EstimatedSalary</th>\n",
              "      <th>Exited</th>\n",
              "    </tr>\n",
              "  </thead>\n",
              "  <tbody>\n",
              "    <tr>\n",
              "      <th>9995</th>\n",
              "      <td>9996</td>\n",
              "      <td>15606229</td>\n",
              "      <td>Obijiaku</td>\n",
              "      <td>771</td>\n",
              "      <td>France</td>\n",
              "      <td>Male</td>\n",
              "      <td>39</td>\n",
              "      <td>5.0</td>\n",
              "      <td>0.00</td>\n",
              "      <td>2</td>\n",
              "      <td>1</td>\n",
              "      <td>0</td>\n",
              "      <td>96270.64</td>\n",
              "      <td>0</td>\n",
              "    </tr>\n",
              "    <tr>\n",
              "      <th>9996</th>\n",
              "      <td>9997</td>\n",
              "      <td>15569892</td>\n",
              "      <td>Johnstone</td>\n",
              "      <td>516</td>\n",
              "      <td>France</td>\n",
              "      <td>Male</td>\n",
              "      <td>35</td>\n",
              "      <td>10.0</td>\n",
              "      <td>57369.61</td>\n",
              "      <td>1</td>\n",
              "      <td>1</td>\n",
              "      <td>1</td>\n",
              "      <td>101699.77</td>\n",
              "      <td>0</td>\n",
              "    </tr>\n",
              "    <tr>\n",
              "      <th>9997</th>\n",
              "      <td>9998</td>\n",
              "      <td>15584532</td>\n",
              "      <td>Liu</td>\n",
              "      <td>709</td>\n",
              "      <td>France</td>\n",
              "      <td>Female</td>\n",
              "      <td>36</td>\n",
              "      <td>7.0</td>\n",
              "      <td>0.00</td>\n",
              "      <td>1</td>\n",
              "      <td>0</td>\n",
              "      <td>1</td>\n",
              "      <td>42085.58</td>\n",
              "      <td>1</td>\n",
              "    </tr>\n",
              "    <tr>\n",
              "      <th>9998</th>\n",
              "      <td>9999</td>\n",
              "      <td>15682355</td>\n",
              "      <td>Sabbatini</td>\n",
              "      <td>772</td>\n",
              "      <td>Germany</td>\n",
              "      <td>Male</td>\n",
              "      <td>42</td>\n",
              "      <td>3.0</td>\n",
              "      <td>75075.31</td>\n",
              "      <td>2</td>\n",
              "      <td>1</td>\n",
              "      <td>0</td>\n",
              "      <td>92888.52</td>\n",
              "      <td>1</td>\n",
              "    </tr>\n",
              "    <tr>\n",
              "      <th>9999</th>\n",
              "      <td>10000</td>\n",
              "      <td>15628319</td>\n",
              "      <td>Walker</td>\n",
              "      <td>792</td>\n",
              "      <td>France</td>\n",
              "      <td>Female</td>\n",
              "      <td>28</td>\n",
              "      <td>NaN</td>\n",
              "      <td>130142.79</td>\n",
              "      <td>1</td>\n",
              "      <td>1</td>\n",
              "      <td>0</td>\n",
              "      <td>38190.78</td>\n",
              "      <td>0</td>\n",
              "    </tr>\n",
              "  </tbody>\n",
              "</table>\n",
              "</div>"
            ],
            "text/plain": [
              "      RowNumber  CustomerId    Surname  ...  IsActiveMember EstimatedSalary Exited\n",
              "9995       9996    15606229   Obijiaku  ...               0        96270.64      0\n",
              "9996       9997    15569892  Johnstone  ...               1       101699.77      0\n",
              "9997       9998    15584532        Liu  ...               1        42085.58      1\n",
              "9998       9999    15682355  Sabbatini  ...               0        92888.52      1\n",
              "9999      10000    15628319     Walker  ...               0        38190.78      0\n",
              "\n",
              "[5 rows x 14 columns]"
            ]
          },
          "metadata": {},
          "execution_count": 84
        }
      ]
    },
    {
      "cell_type": "code",
      "metadata": {
        "colab": {
          "base_uri": "https://localhost:8080/"
        },
        "id": "Hwnw0kPTfq9C",
        "outputId": "4e7bfc03-4300-4148-fec2-c44b55b9d397"
      },
      "source": [
        "#checking the shape of the data\n",
        "bank_df.shape"
      ],
      "execution_count": null,
      "outputs": [
        {
          "output_type": "execute_result",
          "data": {
            "text/plain": [
              "(10000, 14)"
            ]
          },
          "metadata": {},
          "execution_count": 85
        }
      ]
    },
    {
      "cell_type": "code",
      "metadata": {
        "colab": {
          "base_uri": "https://localhost:8080/"
        },
        "id": "Hcof_n3KivnJ",
        "outputId": "95363d52-dba1-418a-e051-50860bc7fd95"
      },
      "source": [
        "#checking the data info\n",
        "bank_df.info()"
      ],
      "execution_count": null,
      "outputs": [
        {
          "output_type": "stream",
          "name": "stdout",
          "text": [
            "<class 'pandas.core.frame.DataFrame'>\n",
            "RangeIndex: 10000 entries, 0 to 9999\n",
            "Data columns (total 14 columns):\n",
            " #   Column           Non-Null Count  Dtype  \n",
            "---  ------           --------------  -----  \n",
            " 0   RowNumber        10000 non-null  int64  \n",
            " 1   CustomerId       10000 non-null  int64  \n",
            " 2   Surname          10000 non-null  object \n",
            " 3   CreditScore      10000 non-null  int64  \n",
            " 4   Geography        10000 non-null  object \n",
            " 5   Gender           10000 non-null  object \n",
            " 6   Age              10000 non-null  int64  \n",
            " 7   Tenure           9091 non-null   float64\n",
            " 8   Balance          10000 non-null  float64\n",
            " 9   NumOfProducts    10000 non-null  int64  \n",
            " 10  HasCrCard        10000 non-null  int64  \n",
            " 11  IsActiveMember   10000 non-null  int64  \n",
            " 12  EstimatedSalary  10000 non-null  float64\n",
            " 13  Exited           10000 non-null  int64  \n",
            "dtypes: float64(3), int64(8), object(3)\n",
            "memory usage: 1.1+ MB\n"
          ]
        }
      ]
    },
    {
      "cell_type": "markdown",
      "metadata": {
        "id": "Xo66ZzGcja-4"
      },
      "source": [
        "Columns RowNumber, CustomerId and Surname will not be required in our analysis, we will therefore drop them from our dataset      "
      ]
    },
    {
      "cell_type": "code",
      "metadata": {
        "colab": {
          "base_uri": "https://localhost:8080/",
          "height": 204
        },
        "id": "2wJfT40aj7Lx",
        "outputId": "0c368126-2d0d-45a2-8019-5c7e159ed91a"
      },
      "source": [
        "bank_df = bank_df.drop(['RowNumber','CustomerId','Surname'],axis=1)\n",
        "bank_df.head()"
      ],
      "execution_count": null,
      "outputs": [
        {
          "output_type": "execute_result",
          "data": {
            "text/html": [
              "<div>\n",
              "<style scoped>\n",
              "    .dataframe tbody tr th:only-of-type {\n",
              "        vertical-align: middle;\n",
              "    }\n",
              "\n",
              "    .dataframe tbody tr th {\n",
              "        vertical-align: top;\n",
              "    }\n",
              "\n",
              "    .dataframe thead th {\n",
              "        text-align: right;\n",
              "    }\n",
              "</style>\n",
              "<table border=\"1\" class=\"dataframe\">\n",
              "  <thead>\n",
              "    <tr style=\"text-align: right;\">\n",
              "      <th></th>\n",
              "      <th>CreditScore</th>\n",
              "      <th>Geography</th>\n",
              "      <th>Gender</th>\n",
              "      <th>Age</th>\n",
              "      <th>Tenure</th>\n",
              "      <th>Balance</th>\n",
              "      <th>NumOfProducts</th>\n",
              "      <th>HasCrCard</th>\n",
              "      <th>IsActiveMember</th>\n",
              "      <th>EstimatedSalary</th>\n",
              "      <th>Exited</th>\n",
              "    </tr>\n",
              "  </thead>\n",
              "  <tbody>\n",
              "    <tr>\n",
              "      <th>0</th>\n",
              "      <td>619</td>\n",
              "      <td>France</td>\n",
              "      <td>Female</td>\n",
              "      <td>42</td>\n",
              "      <td>2.0</td>\n",
              "      <td>0.00</td>\n",
              "      <td>1</td>\n",
              "      <td>1</td>\n",
              "      <td>1</td>\n",
              "      <td>101348.88</td>\n",
              "      <td>1</td>\n",
              "    </tr>\n",
              "    <tr>\n",
              "      <th>1</th>\n",
              "      <td>608</td>\n",
              "      <td>Spain</td>\n",
              "      <td>Female</td>\n",
              "      <td>41</td>\n",
              "      <td>1.0</td>\n",
              "      <td>83807.86</td>\n",
              "      <td>1</td>\n",
              "      <td>0</td>\n",
              "      <td>1</td>\n",
              "      <td>112542.58</td>\n",
              "      <td>0</td>\n",
              "    </tr>\n",
              "    <tr>\n",
              "      <th>2</th>\n",
              "      <td>502</td>\n",
              "      <td>France</td>\n",
              "      <td>Female</td>\n",
              "      <td>42</td>\n",
              "      <td>8.0</td>\n",
              "      <td>159660.80</td>\n",
              "      <td>3</td>\n",
              "      <td>1</td>\n",
              "      <td>0</td>\n",
              "      <td>113931.57</td>\n",
              "      <td>1</td>\n",
              "    </tr>\n",
              "    <tr>\n",
              "      <th>3</th>\n",
              "      <td>699</td>\n",
              "      <td>France</td>\n",
              "      <td>Female</td>\n",
              "      <td>39</td>\n",
              "      <td>1.0</td>\n",
              "      <td>0.00</td>\n",
              "      <td>2</td>\n",
              "      <td>0</td>\n",
              "      <td>0</td>\n",
              "      <td>93826.63</td>\n",
              "      <td>0</td>\n",
              "    </tr>\n",
              "    <tr>\n",
              "      <th>4</th>\n",
              "      <td>850</td>\n",
              "      <td>Spain</td>\n",
              "      <td>Female</td>\n",
              "      <td>43</td>\n",
              "      <td>2.0</td>\n",
              "      <td>125510.82</td>\n",
              "      <td>1</td>\n",
              "      <td>1</td>\n",
              "      <td>1</td>\n",
              "      <td>79084.10</td>\n",
              "      <td>0</td>\n",
              "    </tr>\n",
              "  </tbody>\n",
              "</table>\n",
              "</div>"
            ],
            "text/plain": [
              "   CreditScore Geography  Gender  ...  IsActiveMember  EstimatedSalary  Exited\n",
              "0          619    France  Female  ...               1        101348.88       1\n",
              "1          608     Spain  Female  ...               1        112542.58       0\n",
              "2          502    France  Female  ...               0        113931.57       1\n",
              "3          699    France  Female  ...               0         93826.63       0\n",
              "4          850     Spain  Female  ...               1         79084.10       0\n",
              "\n",
              "[5 rows x 11 columns]"
            ]
          },
          "metadata": {},
          "execution_count": 87
        }
      ]
    },
    {
      "cell_type": "code",
      "metadata": {
        "colab": {
          "base_uri": "https://localhost:8080/"
        },
        "id": "_MO2iouJguui",
        "outputId": "5f531db5-7d2a-4cf6-997b-67e551adc62f"
      },
      "source": [
        "#checking for null values\n",
        "bank_df.isnull().sum()"
      ],
      "execution_count": null,
      "outputs": [
        {
          "output_type": "execute_result",
          "data": {
            "text/plain": [
              "CreditScore          0\n",
              "Geography            0\n",
              "Gender               0\n",
              "Age                  0\n",
              "Tenure             909\n",
              "Balance              0\n",
              "NumOfProducts        0\n",
              "HasCrCard            0\n",
              "IsActiveMember       0\n",
              "EstimatedSalary      0\n",
              "Exited               0\n",
              "dtype: int64"
            ]
          },
          "metadata": {},
          "execution_count": 88
        }
      ]
    },
    {
      "cell_type": "markdown",
      "metadata": {
        "id": "LzIgfuHQkh5_"
      },
      "source": [
        "We will impute missing values in tenure with the mean, this will not affect the outcome as our model will be evaluated using F1 score"
      ]
    },
    {
      "cell_type": "code",
      "metadata": {
        "id": "t-89QIsClMY4"
      },
      "source": [
        "#imputing null values with the mean\n",
        "bank_df['Tenure']= bank_df['Tenure'].fillna(bank_df['Tenure'].mean())\n",
        "\n",
        "#converting tenure to type int\n",
        "bank_df['Tenure'] = bank_df['Tenure'].astype(int)"
      ],
      "execution_count": null,
      "outputs": []
    },
    {
      "cell_type": "code",
      "metadata": {
        "colab": {
          "base_uri": "https://localhost:8080/"
        },
        "id": "kxXHZSNylj6g",
        "outputId": "1f86b97d-6669-4815-b0cd-3e199b2df598"
      },
      "source": [
        "bank_df.info()"
      ],
      "execution_count": null,
      "outputs": [
        {
          "output_type": "stream",
          "name": "stdout",
          "text": [
            "<class 'pandas.core.frame.DataFrame'>\n",
            "RangeIndex: 10000 entries, 0 to 9999\n",
            "Data columns (total 11 columns):\n",
            " #   Column           Non-Null Count  Dtype  \n",
            "---  ------           --------------  -----  \n",
            " 0   CreditScore      10000 non-null  int64  \n",
            " 1   Geography        10000 non-null  object \n",
            " 2   Gender           10000 non-null  object \n",
            " 3   Age              10000 non-null  int64  \n",
            " 4   Tenure           10000 non-null  int64  \n",
            " 5   Balance          10000 non-null  float64\n",
            " 6   NumOfProducts    10000 non-null  int64  \n",
            " 7   HasCrCard        10000 non-null  int64  \n",
            " 8   IsActiveMember   10000 non-null  int64  \n",
            " 9   EstimatedSalary  10000 non-null  float64\n",
            " 10  Exited           10000 non-null  int64  \n",
            "dtypes: float64(2), int64(7), object(2)\n",
            "memory usage: 859.5+ KB\n"
          ]
        }
      ]
    },
    {
      "cell_type": "code",
      "metadata": {
        "colab": {
          "base_uri": "https://localhost:8080/"
        },
        "id": "-_FQCH11lqpX",
        "outputId": "f63fa4e4-0845-4f9a-baf5-c6d1c04cd778"
      },
      "source": [
        "#checking for duplicates\n",
        "bank_df.duplicated().sum()"
      ],
      "execution_count": null,
      "outputs": [
        {
          "output_type": "execute_result",
          "data": {
            "text/plain": [
              "0"
            ]
          },
          "metadata": {},
          "execution_count": 91
        }
      ]
    },
    {
      "cell_type": "markdown",
      "metadata": {
        "id": "AI_p33xYn5R1"
      },
      "source": [
        "#Data Modelling"
      ]
    },
    {
      "cell_type": "markdown",
      "metadata": {
        "id": "f9IN719JDv66"
      },
      "source": [
        "#Examining the balance of the classes\n"
      ]
    },
    {
      "cell_type": "code",
      "metadata": {
        "colab": {
          "base_uri": "https://localhost:8080/"
        },
        "id": "PFea3Mozn8fN",
        "outputId": "2e74a825-0283-4261-d210-2bc9380ab686"
      },
      "source": [
        "#Examining the balance of the classes\n",
        "print(bank_df[bank_df['Exited'] == 1]['Exited'].count())\n",
        "print(bank_df[bank_df['Exited'] == 0]['Exited'].count())"
      ],
      "execution_count": null,
      "outputs": [
        {
          "output_type": "stream",
          "name": "stdout",
          "text": [
            "2037\n",
            "7963\n"
          ]
        }
      ]
    },
    {
      "cell_type": "markdown",
      "metadata": {
        "id": "syg-QGaComhZ"
      },
      "source": [
        "we do have an imbalanced classification problem"
      ]
    },
    {
      "cell_type": "code",
      "metadata": {
        "id": "HUhakFSxpJo1"
      },
      "source": [
        "scaler = StandardScaler()\n",
        "\n",
        "#OHE\n",
        "bank_df = pd.get_dummies(bank_df, drop_first=True)\n",
        "\n",
        "#creating features and target\n",
        "features = bank_df.drop(['Exited'],axis=1)\n",
        "target =  bank_df['Exited']\n",
        "\n",
        "#splitting the data into train, test and validation sets, 20% test, 75% train,20% valid\n",
        "features_train, features_test, target_train, target_test = train_test_split(features, target, test_size=0.20, random_state=12345)\n",
        "features_train, features_valid, target_train, target_valid = train_test_split(features_train, target_train, test_size=0.2, random_state=12345 )"
      ],
      "execution_count": null,
      "outputs": []
    },
    {
      "cell_type": "code",
      "metadata": {
        "colab": {
          "base_uri": "https://localhost:8080/"
        },
        "id": "dW80r_kAosMG",
        "outputId": "e28bc697-ba36-4662-d903-65ce5d134329"
      },
      "source": [
        "#Training the model without taking into account the imbalance\n",
        "\n",
        "model_lr = LogisticRegression(solver='liblinear', random_state=12345)\n",
        "\n",
        "model_lr.fit(features_train,target_train)\n",
        "\n",
        "prediction =model_lr.predict(features_train)\n",
        "\n",
        "accuracy = model_lr.score(features_valid, target_valid)\n",
        "\n",
        "print('Accuracy', accuracy)\n",
        "print('f1 score:' ,f1_score(target_valid, model_lr.predict(features_valid)))\n",
        "print('AUC:', roc_auc_score(target_valid, model_lr.predict_proba(features_valid)[:,1]))\n"
      ],
      "execution_count": null,
      "outputs": [
        {
          "output_type": "stream",
          "name": "stdout",
          "text": [
            "Accuracy 0.800625\n",
            "f1 score: 0.08069164265129683\n",
            "AUC: 0.6750307258944861\n"
          ]
        }
      ]
    },
    {
      "cell_type": "markdown",
      "metadata": {
        "id": "UcdKmc4P8Xcv"
      },
      "source": [
        "Using logistic regression and an imbalanced classification, we get an accuracy score of 0.80, an F1 score of 0.08 and an AUC of 0.65\n"
      ]
    },
    {
      "cell_type": "code",
      "metadata": {
        "colab": {
          "base_uri": "https://localhost:8080/"
        },
        "id": "6Aj258b281ec",
        "outputId": "8ef2d44b-6917-4ccf-869a-02988a28edfc"
      },
      "source": [
        "#Training the other models without taking into account the imbalance\n",
        "\n",
        "model_dt = DecisionTreeClassifier(random_state=12345)\n",
        "model_rf = RandomForestClassifier(random_state=12345,n_estimators=3)\n",
        "\n",
        "model_dt.fit(features_train,target_train)\n",
        "model_rf.fit(features_train,target_train)\n",
        "\n",
        "prediction_dt =model_dt.predict(features_train)\n",
        "prediction_rf =model_rf.predict(features_train)\n",
        "\n",
        "accuracy_dt = model_dt.score(features_valid, target_valid)\n",
        "accuracy_rf = model_rf.score(features_valid, target_valid)\n",
        "\n",
        "\n",
        "print('accuracy_dt', accuracy_dt)\n",
        "print('accuracy_rf', accuracy_rf)\n",
        "\n",
        "print('f1 score_dt:' ,f1_score(target_valid, model_dt.predict(features_valid)))\n",
        "print('f1 score_rf:' ,f1_score(target_valid, model_rf.predict(features_valid)))\n",
        "\n",
        "print('AUC_dt:', roc_auc_score(target_valid, model_dt.predict_proba(features_valid)[:,1]))\n",
        "print('AUC_rf:', roc_auc_score(target_valid, model_rf.predict_proba(features_valid)[:,1]))"
      ],
      "execution_count": null,
      "outputs": [
        {
          "output_type": "stream",
          "name": "stdout",
          "text": [
            "accuracy_dt 0.793125\n",
            "accuracy_rf 0.825\n",
            "f1 score_dt: 0.46353322528363045\n",
            "f1 score_rf: 0.49640287769784175\n",
            "AUC_dt: 0.6700522403820953\n",
            "AUC_rf: 0.7437880256799774\n"
          ]
        }
      ]
    },
    {
      "cell_type": "markdown",
      "metadata": {
        "id": "qfN29gpl_-ik"
      },
      "source": [
        "the accuracy of random forest is highest at 0.82, the f1 scores of random forest and decision trees are higher than that of logistic regression meaning they have an improved F1 score, AUC of decision tree and that of losigtic regression are very close and the highest AUC is that of random forest"
      ]
    },
    {
      "cell_type": "markdown",
      "metadata": {
        "id": "Lva71IVMDWPJ"
      },
      "source": [
        "#Improving model quality and fixing class imbalance"
      ]
    },
    {
      "cell_type": "markdown",
      "metadata": {
        "id": "qeh96HVSGouY"
      },
      "source": [
        "Downsampling"
      ]
    },
    {
      "cell_type": "code",
      "metadata": {
        "colab": {
          "base_uri": "https://localhost:8080/"
        },
        "id": "jg6iGKuBGr7o",
        "outputId": "d427fe6d-1c53-4489-ac04-15f6edffafa2"
      },
      "source": [
        "#downsampling\n",
        "def downsample(features, target, fraction):\n",
        "    features_zeros = features[target == 0]\n",
        "    features_ones = features[target == 1]\n",
        "    target_zeros = target[target == 0]\n",
        "    target_ones = target[target == 1]\n",
        "\n",
        "    features_downsampled = pd.concat(\n",
        "        [features_zeros.sample(frac=fraction, random_state=12345)] + [features_ones])\n",
        "    target_downsampled = pd.concat(\n",
        "        [target_zeros.sample(frac=fraction, random_state=12345)] + [target_ones])\n",
        "    \n",
        "    features_downsampled, target_downsampled = shuffle(\n",
        "        features_downsampled, target_downsampled, random_state=12345)\n",
        "    \n",
        "    return features_downsampled, target_downsampled\n",
        "\n",
        "features_downsampled, target_downsampled = downsample(features_train, target_train, 0.1)\n",
        "\n",
        "model_lr_downsample =LogisticRegression(random_state=12345,solver='liblinear')\n",
        "model_lr_downsample.fit(features_downsampled, target_downsampled)\n",
        "predicted_valid_downsample = model_lr_downsample.predict(features_valid)\n",
        "\n",
        "print(\"F1:\", f1_score(target_valid, predicted_valid_downsample))\n",
        "print('Accuracy:', model_lr_downsample.score(features_valid, target_valid))\n",
        "print(\"AUC-ROC:\", roc_auc_score(target_valid, model_lr_downsample.predict_proba(features_valid)[:,1]))"
      ],
      "execution_count": null,
      "outputs": [
        {
          "output_type": "stream",
          "name": "stdout",
          "text": [
            "F1: 0.33906071019473083\n",
            "Accuracy: 0.27875\n",
            "AUC-ROC: 0.7149298584445954\n"
          ]
        }
      ]
    },
    {
      "cell_type": "markdown",
      "metadata": {
        "id": "GB6k2BriHXyn"
      },
      "source": [
        "we need an F1 Score of at least 0.59. downsampling using logistic regression gives us 0.33. we will proceed to try upsampling"
      ]
    },
    {
      "cell_type": "markdown",
      "metadata": {
        "id": "idZsNC77HuM3"
      },
      "source": [
        "Upsampling"
      ]
    },
    {
      "cell_type": "code",
      "metadata": {
        "colab": {
          "base_uri": "https://localhost:8080/"
        },
        "id": "cV8xC4rjIKNn",
        "outputId": "0aefa46a-9f80-4f0f-8223-816f3756aa3a"
      },
      "source": [
        "#Upsampling\n",
        "def upsample(features, target, repeat):\n",
        "    features_zeros = features[target == 0]\n",
        "    features_ones = features[target == 1]\n",
        "    target_zeros = target[target == 0]\n",
        "    target_ones = target[target == 1]\n",
        "\n",
        "    features_upsampled = pd.concat([features_zeros] + [features_ones] * repeat)\n",
        "    target_upsampled = pd.concat([target_zeros] + [target_ones] * repeat)\n",
        "    \n",
        "    features_upsampled, target_upsampled = shuffle(\n",
        "        features_upsampled, target_upsampled, random_state=12345)\n",
        "    \n",
        "    return features_upsampled, target_upsampled\n",
        "\n",
        "features_upsampled, target_upsampled = upsample(features_train, target_train, 10)\n",
        "\n",
        "model_lr_upsample =LogisticRegression(random_state=12345,solver='liblinear')\n",
        "model_lr_upsample.fit(features_upsampled, target_upsampled)\n",
        "predicted_valid_upsample = model_lr_upsample.predict(features_valid)\n",
        "\n",
        "\n",
        "print('Accuracy', model_lr_upsample.score(features_valid, target_valid))\n",
        "print('f1 score:' ,f1_score(target_valid, predicted_valid_upsample))\n",
        "print('AUC:',roc_auc_score(target_valid, model_lr_upsample.predict_proba(features_valid)[:,1]))"
      ],
      "execution_count": null,
      "outputs": [
        {
          "output_type": "stream",
          "name": "stdout",
          "text": [
            "Accuracy 0.294375\n",
            "f1 score: 0.34398605461940734\n",
            "AUC: 0.7221005061184609\n"
          ]
        }
      ]
    },
    {
      "cell_type": "markdown",
      "metadata": {
        "id": "BVbwrPMAIr3p"
      },
      "source": [
        "F1 score slightly improves but still with logistic regression."
      ]
    },
    {
      "cell_type": "markdown",
      "metadata": {
        "id": "AP1CXedPI4nO"
      },
      "source": [
        "Fixing class imbalance with decision tree"
      ]
    },
    {
      "cell_type": "code",
      "metadata": {
        "colab": {
          "base_uri": "https://localhost:8080/"
        },
        "id": "SRpYquncI-ct",
        "outputId": "0b5a9d10-0e1f-495e-c382-d4d63c8d3563"
      },
      "source": [
        "#downsampling decision tree\n",
        "def downsample(features, target, fraction):\n",
        "    features_zeros = features[target == 0]\n",
        "    features_ones = features[target == 1]\n",
        "    target_zeros = target[target == 0]\n",
        "    target_ones = target[target == 1]\n",
        "\n",
        "    features_downsampled = pd.concat(\n",
        "        [features_zeros.sample(frac=fraction, random_state=12345)] + [features_ones])\n",
        "    target_downsampled = pd.concat(\n",
        "        [target_zeros.sample(frac=fraction, random_state=12345)] + [target_ones])\n",
        "    \n",
        "    features_downsampled, target_downsampled = shuffle(\n",
        "        features_downsampled, target_downsampled, random_state=12345)\n",
        "    \n",
        "    return features_downsampled, target_downsampled\n",
        "\n",
        "features_downsampled, target_downsampled = downsample(features_train, target_train, 0.1)\n",
        "\n",
        "model_dt_downsample =DecisionTreeClassifier(random_state=12345)\n",
        "model_dt_downsample.fit(features_downsampled, target_downsampled)\n",
        "predicted_valid_downsample_dt = model_dt_downsample.predict(features_valid)\n",
        "\n",
        "print(\"F1:\", f1_score(target_valid, predicted_valid_downsample_dt))\n",
        "print('Accuracy:', model_dt_downsample.score(features_valid, target_valid))\n",
        "print(\"AUC-ROC:\", roc_auc_score(target_valid, model_dt_downsample.predict_proba(features_valid)[:,1]))"
      ],
      "execution_count": null,
      "outputs": [
        {
          "output_type": "stream",
          "name": "stdout",
          "text": [
            "F1: 0.4186046511627908\n",
            "Accuracy: 0.59375\n",
            "AUC-ROC: 0.6621602021420339\n"
          ]
        }
      ]
    },
    {
      "cell_type": "code",
      "metadata": {
        "colab": {
          "base_uri": "https://localhost:8080/"
        },
        "id": "z0uDWarpLbft",
        "outputId": "5de74eeb-c6a0-4777-c23c-300a6053ec21"
      },
      "source": [
        "#Upsampling decision tree\n",
        "def upsample(features, target, repeat):\n",
        "    features_zeros = features[target == 0]\n",
        "    features_ones = features[target == 1]\n",
        "    target_zeros = target[target == 0]\n",
        "    target_ones = target[target == 1]\n",
        "\n",
        "    features_upsampled = pd.concat([features_zeros] + [features_ones] * repeat)\n",
        "    target_upsampled = pd.concat([target_zeros] + [target_ones] * repeat)\n",
        "    \n",
        "    features_upsampled, target_upsampled = shuffle(\n",
        "        features_upsampled, target_upsampled, random_state=12345)\n",
        "    \n",
        "    return features_upsampled, target_upsampled\n",
        "\n",
        "features_upsampled, target_upsampled = upsample(features_train, target_train, 10)\n",
        "\n",
        "model_dt_upsample =DecisionTreeClassifier(random_state=12345)\n",
        "model_dt_upsample.fit(features_upsampled, target_upsampled)\n",
        "predicted_valid_upsample_dt = model_lr_upsample.predict(features_valid)\n",
        "\n",
        "\n",
        "print('Accuracy', model_dt_upsample.score(features_valid, target_valid))\n",
        "print('f1 score:' ,f1_score(target_valid, predicted_valid_upsample_dt))\n",
        "print('AUC:',roc_auc_score(target_valid, model_dt_upsample.predict_proba(features_valid)[:,1]))"
      ],
      "execution_count": null,
      "outputs": [
        {
          "output_type": "stream",
          "name": "stdout",
          "text": [
            "Accuracy 0.803125\n",
            "f1 score: 0.34398605461940734\n",
            "AUC: 0.6698970205424551\n"
          ]
        }
      ]
    },
    {
      "cell_type": "markdown",
      "metadata": {
        "id": "CH9rYccDMjBM"
      },
      "source": [
        "Upsampling using decision tree raises our F1 score to 0.41 but this is still low. we will now try random forest"
      ]
    },
    {
      "cell_type": "markdown",
      "metadata": {
        "id": "G01kcIVMM2nm"
      },
      "source": [
        "Fixing class imbalance with random forest"
      ]
    },
    {
      "cell_type": "code",
      "metadata": {
        "colab": {
          "base_uri": "https://localhost:8080/"
        },
        "id": "SEVAEnqEM8PU",
        "outputId": "25b6063c-59e8-49bb-acfc-21c7a29a3d49"
      },
      "source": [
        "#downsampling random forest\n",
        "def downsample(features, target, fraction):\n",
        "    features_zeros = features[target == 0]\n",
        "    features_ones = features[target == 1]\n",
        "    target_zeros = target[target == 0]\n",
        "    target_ones = target[target == 1]\n",
        "\n",
        "    features_downsampled = pd.concat(\n",
        "        [features_zeros.sample(frac=fraction, random_state=12345)] + [features_ones])\n",
        "    target_downsampled = pd.concat(\n",
        "        [target_zeros.sample(frac=fraction, random_state=12345)] + [target_ones])\n",
        "    \n",
        "    features_downsampled, target_downsampled = shuffle(\n",
        "        features_downsampled, target_downsampled, random_state=12345)\n",
        "    \n",
        "    return features_downsampled, target_downsampled\n",
        "\n",
        "features_downsampled, target_downsampled = downsample(features_train, target_train, 0.1)\n",
        "\n",
        "model_rf_downsample =RandomForestClassifier(random_state=12345)\n",
        "model_rf_downsample.fit(features_downsampled, target_downsampled)\n",
        "predicted_valid_downsample_rf = model_rf_downsample.predict(features_valid)\n",
        "\n",
        "print(\"F1:\", f1_score(target_valid, predicted_valid_downsample_dt))\n",
        "print('Accuracy:', model_rf_downsample.score(features_valid, target_valid))\n",
        "print(\"AUC-ROC:\", roc_auc_score(target_valid, model_rf_downsample.predict_proba(features_valid)[:,1]))"
      ],
      "execution_count": null,
      "outputs": [
        {
          "output_type": "stream",
          "name": "stdout",
          "text": [
            "F1: 0.4186046511627908\n",
            "Accuracy: 0.565625\n",
            "AUC-ROC: 0.8377062070123744\n"
          ]
        }
      ]
    },
    {
      "cell_type": "code",
      "metadata": {
        "colab": {
          "base_uri": "https://localhost:8080/"
        },
        "id": "dEP-qd79OekG",
        "outputId": "637ee7fd-2717-4ea4-a04e-867b59c4017b"
      },
      "source": [
        "#Upsampling random forest\n",
        "def upsample(features, target, repeat):\n",
        "    features_zeros = features[target == 0]\n",
        "    features_ones = features[target == 1]\n",
        "    target_zeros = target[target == 0]\n",
        "    target_ones = target[target == 1]\n",
        "\n",
        "    features_upsampled = pd.concat([features_zeros] + [features_ones] * repeat)\n",
        "    target_upsampled = pd.concat([target_zeros] + [target_ones] * repeat)\n",
        "    \n",
        "    features_upsampled, target_upsampled = shuffle(\n",
        "        features_upsampled, target_upsampled, random_state=12345)\n",
        "    \n",
        "    return features_upsampled, target_upsampled\n",
        "\n",
        "features_upsampled, target_upsampled = upsample(features_train, target_train, 10)\n",
        "\n",
        "model_rf_upsample =RandomForestClassifier(random_state=12345)\n",
        "model_rf_upsample.fit(features_upsampled, target_upsampled)\n",
        "predicted_valid_upsample_rf = model_rf_upsample.predict(features_valid)\n",
        "\n",
        "\n",
        "print('Accuracy', model_rf_upsample.score(features_valid, target_valid))\n",
        "print('f1 score:' ,f1_score(target_valid, predicted_valid_upsample_rf))\n",
        "print('AUC:',roc_auc_score(target_valid, model_rf_upsample.predict_proba(features_valid)[:,1]))"
      ],
      "execution_count": null,
      "outputs": [
        {
          "output_type": "stream",
          "name": "stdout",
          "text": [
            "Accuracy 0.860625\n",
            "f1 score: 0.5981981981981981\n",
            "AUC: 0.8516556358797022\n"
          ]
        }
      ]
    },
    {
      "cell_type": "markdown",
      "metadata": {
        "id": "bHelbE7VSpYp"
      },
      "source": [
        "Random forest is our ideal model with an F1 score of 0.59 which is above our target f1 score of 0.56. AUC is also above 0.85"
      ]
    },
    {
      "cell_type": "code",
      "metadata": {
        "colab": {
          "base_uri": "https://localhost:8080/"
        },
        "id": "KoCip4cyTLDh",
        "outputId": "15845c78-5b94-434e-d8f3-90d9e3bccfd3"
      },
      "source": [
        "#tuning hyperparameters\n",
        "for estimator in range(1,15):\n",
        "        model_rf_upsample = RandomForestClassifier(random_state=12345, n_estimators=estimator,class_weight='balanced')\n",
        "        \n",
        "        model_rf_upsample.fit(features_train, target_train)\n",
        "\n",
        "        prediction_rf_2 = model_rf_upsample.predict(features_valid)\n",
        "        #score(test_features, target)\n",
        "        #predictions = model.predict(test_features)\n",
        "        accuracy_rf_2 = accuracy_score(target_valid, prediction_rf_2)\n",
        "       \n",
        "        print(\"estimator =\", estimator, \": \", end='')\n",
        "        print(accuracy_score(target_valid, prediction_rf_2))\n",
        "        print('f1 score:' ,f1_score(target_valid, prediction_rf_2))"
      ],
      "execution_count": null,
      "outputs": [
        {
          "output_type": "stream",
          "name": "stdout",
          "text": [
            "estimator = 1 : 0.791875\n",
            "f1 score: 0.4722662440570523\n",
            "estimator = 2 : 0.8425\n",
            "f1 score: 0.4375\n",
            "estimator = 3 : 0.828125\n",
            "f1 score: 0.5098039215686275\n",
            "estimator = 4 : 0.84875\n",
            "f1 score: 0.48945147679324896\n",
            "estimator = 5 : 0.85\n",
            "f1 score: 0.5437262357414449\n"
          ]
        }
      ]
    },
    {
      "cell_type": "markdown",
      "metadata": {
        "id": "fHNW60fyW90W"
      },
      "source": [
        "estimator 13 has the highest f1 score of 0.568, we will use this to tune the max_depth"
      ]
    },
    {
      "cell_type": "code",
      "metadata": {
        "id": "hOGS1aWeUB_L"
      },
      "source": [
        "#tuning hyperparameters\n",
        "for depth in range(1,15):\n",
        "        model_rf_upsample = RandomForestClassifier(random_state=12345,max_depth=depth, n_estimators=13,class_weight='balanced')\n",
        "        \n",
        "        model_rf_upsample.fit(features_train, target_train)\n",
        "\n",
        "        prediction_rf_2 = model_rf_upsample.predict(features_valid)\n",
        "        #score(test_features, target)\n",
        "        #predictions = model.predict(test_features)\n",
        "        accuracy_rf_2 = accuracy_score(target_valid, prediction_rf_2)\n",
        "       \n",
        "        print(\"depth =\", depth, \": \", end='')\n",
        "        print(accuracy_score(target_valid, prediction_rf_2))\n",
        "        print('f1 score:' ,f1_score(target_valid, prediction_rf_2))"
      ],
      "execution_count": null,
      "outputs": []
    },
    {
      "cell_type": "markdown",
      "metadata": {
        "id": "VdzlS_OWXWc3"
      },
      "source": [
        "at max_depth =11 we get the highest F1 score of 0.605. We will tune our final model with n_estimator = 13 and max_depth =11"
      ]
    },
    {
      "cell_type": "code",
      "metadata": {
        "id": "_3SYfVCDYbg-"
      },
      "source": [
        "#final modelling and testing\n",
        "final_model = RandomForestClassifier(random_state=12345,max_depth=11, n_estimators=13,class_weight='balanced')\n",
        "final_model.fit(features_train, target_train)\n",
        "predicted_test_rf = final_model.predict(features_test)\n",
        "print(\"F1:\", f1_score(target_test, predicted_test_rf))\n",
        "print(\"AUC-ROC:\", roc_auc_score(target_test, final_model.predict_proba(features_test)[:,1]))\n",
        "print('Accuracy:', final_model.score(features_valid, target_valid))"
      ],
      "execution_count": null,
      "outputs": []
    },
    {
      "cell_type": "markdown",
      "metadata": {
        "id": "4uxsnfXsb-8E"
      },
      "source": [
        "#Conclusion"
      ]
    },
    {
      "cell_type": "markdown",
      "metadata": {
        "id": "llCsFNqRZW-E"
      },
      "source": [
        "With an F1 score of 0.60 and AUC-ROC of 0.84 we can conclude that we have a quality model and meet the requirement of an F1 score of at least 0.59"
      ]
    }
  ]
}